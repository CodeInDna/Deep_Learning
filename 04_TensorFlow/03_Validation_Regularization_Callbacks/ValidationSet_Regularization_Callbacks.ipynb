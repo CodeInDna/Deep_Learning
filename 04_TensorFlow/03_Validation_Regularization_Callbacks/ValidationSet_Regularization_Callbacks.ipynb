{
 "cells": [
  {
   "cell_type": "code",
   "execution_count": 1,
   "metadata": {},
   "outputs": [
    {
     "name": "stdout",
     "output_type": "stream",
     "text": [
      "2.0.0\n"
     ]
    }
   ],
   "source": [
    "import tensorflow as tf\n",
    "print(tf.__version__)"
   ]
  },
  {
   "cell_type": "markdown",
   "metadata": {},
   "source": [
    "# Validation"
   ]
  },
  {
   "cell_type": "markdown",
   "metadata": {},
   "source": [
    "***\n",
    "<a id=\"coding_tutorial_1\"></a>\n",
    "## Validation sets"
   ]
  },
  {
   "cell_type": "markdown",
   "metadata": {},
   "source": [
    "#### Load the data"
   ]
  },
  {
   "cell_type": "code",
   "execution_count": 2,
   "metadata": {},
   "outputs": [
    {
     "name": "stdout",
     "output_type": "stream",
     "text": [
      ".. _diabetes_dataset:\n",
      "\n",
      "Diabetes dataset\n",
      "----------------\n",
      "\n",
      "Ten baseline variables, age, sex, body mass index, average blood\n",
      "pressure, and six blood serum measurements were obtained for each of n =\n",
      "442 diabetes patients, as well as the response of interest, a\n",
      "quantitative measure of disease progression one year after baseline.\n",
      "\n",
      "**Data Set Characteristics:**\n",
      "\n",
      "  :Number of Instances: 442\n",
      "\n",
      "  :Number of Attributes: First 10 columns are numeric predictive values\n",
      "\n",
      "  :Target: Column 11 is a quantitative measure of disease progression one year after baseline\n",
      "\n",
      "  :Attribute Information:\n",
      "      - Age\n",
      "      - Sex\n",
      "      - Body mass index\n",
      "      - Average blood pressure\n",
      "      - S1\n",
      "      - S2\n",
      "      - S3\n",
      "      - S4\n",
      "      - S5\n",
      "      - S6\n",
      "\n",
      "Note: Each of these 10 feature variables have been mean centered and scaled by the standard deviation times `n_samples` (i.e. the sum of squares of each column totals 1).\n",
      "\n",
      "Source URL:\n",
      "https://www4.stat.ncsu.edu/~boos/var.select/diabetes.html\n",
      "\n",
      "For more information see:\n",
      "Bradley Efron, Trevor Hastie, Iain Johnstone and Robert Tibshirani (2004) \"Least Angle Regression,\" Annals of Statistics (with discussion), 407-499.\n",
      "(https://web.stanford.edu/~hastie/Papers/LARS/LeastAngle_2002.pdf)\n"
     ]
    }
   ],
   "source": [
    "# Load the diabetes datasets\n",
    "\n",
    "from sklearn.datasets import load_diabetes\n",
    "\n",
    "diabetes_dataset = load_diabetes()\n",
    "print(diabetes_dataset['DESCR'])"
   ]
  },
  {
   "cell_type": "code",
   "execution_count": 3,
   "metadata": {},
   "outputs": [
    {
     "name": "stdout",
     "output_type": "stream",
     "text": [
      "dict_keys(['data', 'target', 'DESCR', 'feature_names', 'data_filename', 'target_filename'])\n"
     ]
    }
   ],
   "source": [
    "# Save the input and target variables\n",
    "\n",
    "print(diabetes_dataset.keys())\n",
    "data = diabetes_dataset[\"data\"]\n",
    "targets = diabetes_dataset['target']"
   ]
  },
  {
   "cell_type": "code",
   "execution_count": 4,
   "metadata": {},
   "outputs": [
    {
     "data": {
      "text/plain": [
       "((442, 10), (442,))"
      ]
     },
     "execution_count": 4,
     "metadata": {},
     "output_type": "execute_result"
    }
   ],
   "source": [
    "data.shape, targets.shape"
   ]
  },
  {
   "cell_type": "code",
   "execution_count": 5,
   "metadata": {},
   "outputs": [
    {
     "data": {
      "text/plain": [
       "array([-1.47194752e-02, -1.00165882e+00, -1.44579915e-01,  6.99512942e-01,\n",
       "       -2.22496178e-01, -7.15965848e-01, -1.83538046e-01, -1.15749134e+00,\n",
       "       -5.47147277e-01,  2.05006151e+00, -6.64021672e-01, -1.07957508e+00,\n",
       "        3.48889755e-01,  4.26806019e-01, -4.43258925e-01,  2.45001404e-01,\n",
       "        1.80071184e-01, -1.05621783e-01, -7.15965848e-01,  2.06043272e-01,\n",
       "       -1.09256112e+00, -1.33929596e+00, -1.09256112e+00,  1.20596866e+00,\n",
       "        4.13819975e-01,  6.47568766e-01, -1.96524090e-01, -8.71798376e-01,\n",
       "       -2.74440354e-01,  1.69943833e+00, -3.00412442e-01, -1.20943552e+00,\n",
       "        2.45262887e+00, -8.45826288e-01, -1.13151925e+00, -6.51035629e-01,\n",
       "        1.46568953e+00,  1.60853602e+00,  1.29687096e+00, -8.06868156e-01,\n",
       "       -6.77007716e-01, -1.26137969e+00, -1.18346343e+00, -7.80896068e-01,\n",
       "        1.38777327e+00, -1.28735178e+00,  4.91736239e-01, -1.31593871e-01,\n",
       "       -1.00165882e+00, -1.31593871e-01,  3.72247006e-02,  9.46247777e-01,\n",
       "       -1.20943552e+00, -6.25063541e-01,  3.87847887e-01, -3.13398486e-01,\n",
       "       -1.30033783e+00, -1.49512849e+00,  2.32015360e-01,  2.32015360e-01,\n",
       "       -1.18346343e+00, -1.05621783e-01, -1.30033783e+00, -3.13398486e-01,\n",
       "       -1.05360299e+00,  1.41113052e-01, -2.77055191e-02, -7.15965848e-01,\n",
       "        1.02154920e-01,  3.35903711e-01, -1.35228200e+00,  1.53061975e+00,\n",
       "        6.47568766e-01, -5.34161233e-01, -8.71798376e-01, -1.43019827e+00,\n",
       "        2.32015360e-01,  6.21596678e-01,  1.29687096e+00, -5.08189145e-01,\n",
       "       -1.18607827e-01, -1.31332387e+00, -1.30033783e+00,  7.51457118e-01,\n",
       "       -1.13151925e+00, -1.44579915e-01, -1.26137969e+00, -2.35482222e-01,\n",
       "       -1.43019827e+00, -5.34161233e-01, -7.02979804e-01,  1.54099096e-01,\n",
       "       -1.35228200e+00, -7.28951892e-01, -8.06868156e-01,  1.28127008e-01,\n",
       "       -2.77055191e-02,  1.64749415e+00, -7.80896068e-01, -8.97770464e-01,\n",
       "       -3.13398486e-01, -6.51035629e-01,  1.94617316e+00,  5.95624590e-01,\n",
       "       -7.41937936e-01, -1.28735178e+00, -2.35482222e-01, -1.05621783e-01,\n",
       "        1.03715008e+00, -9.23742551e-01, -6.25063541e-01, -1.20943552e+00,\n",
       "        1.21895470e+00,  1.88124294e+00,  1.37478723e+00,  9.98191953e-01,\n",
       "        1.59554997e+00,  1.67346624e+00,  3.48889755e-01,  6.21596678e-01,\n",
       "        6.21596678e-01,  2.70973492e-01,  3.61875799e-01, -8.84784420e-01,\n",
       "       -4.04300794e-01,  1.15140964e-01, -6.89993760e-01, -5.60133321e-01,\n",
       "       -4.82217057e-01,  1.50464767e+00,  1.58256393e+00,  7.61828325e-02,\n",
       "       -5.86105409e-01, -8.97770464e-01, -6.38049585e-01,  1.55659184e+00,\n",
       "       -8.71798376e-01,  1.66048019e+00,  2.38769865e+00,  1.67346624e+00,\n",
       "       -4.43258925e-01,  2.14096382e+00,  1.07610822e+00, -1.19644947e+00,\n",
       "        2.83959536e-01,  1.38777327e+00,  3.35903711e-01, -3.13398486e-01,\n",
       "       -7.28951892e-01, -3.39370574e-01,  1.76436855e+00, -8.32840244e-01,\n",
       "        1.81631272e+00, -1.05360299e+00,  5.82638546e-01,  4.39792063e-01,\n",
       "       -1.65096101e+00, -8.84784420e-01, -7.28951892e-01,  5.56666458e-01,\n",
       "       -1.28735178e+00,  8.42359425e-01,  2.57987448e-01, -2.74440354e-01,\n",
       "        8.03401293e-01, -1.20943552e+00, -1.06658903e+00,  8.81317557e-01,\n",
       "        1.50464767e+00, -1.73343121e-03, -1.36526805e+00, -1.01464486e+00,\n",
       "        1.85527085e+00, -6.64021672e-01, -1.47194752e-02, -3.26384530e-01,\n",
       "        1.10208030e+00,  9.46247777e-01, -9.23742551e-01, -1.47194752e-02,\n",
       "       -5.86105409e-01, -1.14450530e+00, -1.83538046e-01,  4.26806019e-01,\n",
       "        1.46568953e+00, -6.64021672e-01, -1.96524090e-01, -1.18607827e-01,\n",
       "       -1.44579915e-01, -9.49714639e-01,  1.81631272e+00,  3.35903711e-01,\n",
       "       -7.93882112e-01, -4.69231013e-01, -8.58812332e-01, -3.91314750e-01,\n",
       "       -1.04061695e+00, -3.00412442e-01, -1.31593871e-01, -8.06868156e-01,\n",
       "        7.61828325e-02, -1.46915640e+00,  5.69652502e-01,  9.07289645e-01,\n",
       "        1.62152206e+00, -6.89993760e-01,  5.69652502e-01,  6.47568766e-01,\n",
       "        3.72247006e-02, -9.75686727e-01,  5.04722283e-01, -1.06658903e+00,\n",
       "       -1.02763090e+00, -1.33929596e+00, -1.13151925e+00,  1.43971745e+00,\n",
       "        1.24492679e+00,  1.86825690e+00,  8.03401293e-01,  4.26806019e-01,\n",
       "       -9.62700683e-01, -7.67910024e-01,  1.29687096e+00, -2.77055191e-02,\n",
       "       -9.75686727e-01,  7.25485030e-01, -9.75686727e-01, -5.73119365e-01,\n",
       "        1.02154920e-01, -1.28735178e+00,  8.81317557e-01,  2.42386567e-02,\n",
       "        1.38777327e+00, -8.06868156e-01,  1.21895470e+00, -3.65342662e-01,\n",
       "       -1.10554717e+00, -1.04061695e+00,  1.36180118e+00,  1.42673140e+00,\n",
       "        1.59554997e+00,  3.22917667e-01, -1.05360299e+00, -1.36526805e+00,\n",
       "        4.52778107e-01, -3.52356618e-01, -9.62700683e-01, -1.31332387e+00,\n",
       "        1.37478723e+00,  8.16387337e-01,  1.95915920e+00,  1.17999657e+00,\n",
       "       -7.93882112e-01, -2.77055191e-02,  2.05006151e+00,  1.12526127e-02,\n",
       "        2.51755909e+00, -1.15749134e+00, -8.19854200e-01, -1.32630991e+00,\n",
       "       -1.46915640e+00, -6.38049585e-01,  2.02408942e+00, -4.69231013e-01,\n",
       "       -9.26357388e-02, -1.01464486e+00, -1.39124013e+00, -4.82217057e-01,\n",
       "        1.45270349e+00, -8.45826288e-01,  6.47568766e-01, -3.26384530e-01,\n",
       "        3.87847887e-01,  1.15402448e+00, -1.11853321e+00, -7.54923980e-01,\n",
       "        1.69943833e+00, -1.14450530e+00, -6.51035629e-01,  6.21596678e-01,\n",
       "        1.46568953e+00, -7.54923980e-01,  1.01117800e+00,  3.74861843e-01,\n",
       "        5.02107446e-02,  1.05013613e+00, -1.19644947e+00,  8.68331513e-01,\n",
       "       -9.36728595e-01, -1.09256112e+00,  2.33575448e+00,  1.24492679e+00,\n",
       "       -8.84784420e-01,  6.21596678e-01, -1.26137969e+00, -8.71798376e-01,\n",
       "       -8.19854200e-01, -1.57304475e+00, -3.00412442e-01, -8.97770464e-01,\n",
       "        1.59554997e+00, -1.13151925e+00,  5.95624590e-01,  1.08909426e+00,\n",
       "        1.30985701e+00, -3.65342662e-01, -1.40422618e+00,  2.57987448e-01,\n",
       "       -4.95203101e-01, -1.31593871e-01, -5.60133321e-01,  3.61875799e-01,\n",
       "       -1.05621783e-01,  1.41113052e-01, -6.66636509e-02, -7.15965848e-01,\n",
       "        8.81317557e-01,  4.91736239e-01, -5.60133321e-01,  5.04722283e-01,\n",
       "       -3.91314750e-01,  1.01117800e+00,  1.16701052e+00,  1.24492679e+00,\n",
       "        1.25791283e+00,  5.17708327e-01, -2.74440354e-01,  1.10208030e+00,\n",
       "       -9.62700683e-01, -2.22496178e-01,  1.19298261e+00,  6.08610634e-01,\n",
       "        1.53061975e+00,  1.54099096e-01, -1.04061695e+00, -7.28951892e-01,\n",
       "        1.99811734e+00, -7.93882112e-01,  8.03401293e-01, -7.41937936e-01,\n",
       "        8.29373381e-01,  1.43971745e+00,  3.35903711e-01, -5.08189145e-01,\n",
       "        6.21596678e-01, -1.70552003e-01, -1.70552003e-01, -8.32840244e-01,\n",
       "       -5.36776070e-02, -8.32840244e-01,  1.17999657e+00, -1.05360299e+00,\n",
       "       -9.75686727e-01, -5.60133321e-01,  1.55659184e+00, -1.19644947e+00,\n",
       "       -1.27436574e+00,  8.94303601e-01, -8.06868156e-01,  2.06304756e+00,\n",
       "        1.67346624e+00,  3.87847887e-01,  2.19290800e+00, -1.22242156e+00,\n",
       "        1.42673140e+00,  6.99512942e-01,  1.05013613e+00,  1.16701052e+00,\n",
       "       -3.78328706e-01,  1.93057228e-01, -1.15749134e+00,  5.82638546e-01,\n",
       "       -1.05360299e+00,  2.06043272e-01, -1.57565959e-01,  8.42359425e-01,\n",
       "       -4.04300794e-01,  1.07610822e+00,  1.20596866e+00, -1.45617035e+00,\n",
       "       -1.30033783e+00, -6.25063541e-01, -2.61454310e-01, -8.32840244e-01,\n",
       "       -1.07957508e+00,  8.68331513e-01, -1.04061695e+00,  6.34582722e-01,\n",
       "       -5.47147277e-01, -1.31332387e+00,  1.62152206e+00, -1.15749134e+00,\n",
       "       -4.43258925e-01, -1.07957508e+00,  1.56957789e+00,  1.37478723e+00,\n",
       "       -1.41721222e+00,  5.95624590e-01,  1.16701052e+00,  1.03715008e+00,\n",
       "        2.96945580e-01, -7.67910024e-01,  2.06043272e-01,  1.59554997e+00,\n",
       "        1.82929877e+00,  1.67346624e+00, -1.04061695e+00, -1.57565959e-01,\n",
       "        4.78750195e-01,  3.74861843e-01,  7.38471074e-01, -2.09510134e-01,\n",
       "        1.41374536e+00, -5.08189145e-01, -2.74440354e-01,  2.83959536e-01,\n",
       "        1.36180118e+00, -1.26137969e+00, -8.84784420e-01, -1.43019827e+00,\n",
       "       -7.96496949e-02,  7.77429206e-01,  1.05013613e+00, -7.93882112e-01,\n",
       "       -5.34161233e-01, -1.73343121e-03, -4.17286837e-01, -1.10554717e+00,\n",
       "        2.05006151e+00, -7.54923980e-01,  4.00833931e-01, -1.11853321e+00,\n",
       "        2.70973492e-01, -1.04061695e+00, -1.33929596e+00, -1.14450530e+00,\n",
       "       -1.35228200e+00,  3.35903711e-01, -6.25063541e-01, -2.61454310e-01,\n",
       "        8.81317557e-01, -1.23540761e+00])"
      ]
     },
     "execution_count": 5,
     "metadata": {},
     "output_type": "execute_result"
    }
   ],
   "source": [
    "# Normalise the target data (this will make clearer training curves)\n",
    "targets = (targets - targets.mean(axis=0)) / targets.std()\n",
    "targets"
   ]
  },
  {
   "cell_type": "code",
   "execution_count": 6,
   "metadata": {},
   "outputs": [
    {
     "name": "stdout",
     "output_type": "stream",
     "text": [
      "(397, 10)\n",
      "(45, 10)\n",
      "(397,)\n",
      "(45,)\n"
     ]
    }
   ],
   "source": [
    "# Split the data into train and test sets\n",
    "\n",
    "from sklearn.model_selection import train_test_split\n",
    "\n",
    "train_data, test_data, train_targets, test_targets = train_test_split(data, targets, test_size=0.1)\n",
    "\n",
    "print(train_data.shape)\n",
    "print(test_data.shape)\n",
    "print(train_targets.shape)\n",
    "print(test_targets.shape)"
   ]
  },
  {
   "cell_type": "markdown",
   "metadata": {},
   "source": [
    "#### Train a feedforward neural network model"
   ]
  },
  {
   "cell_type": "code",
   "execution_count": 7,
   "metadata": {},
   "outputs": [],
   "source": [
    "# Build a model\n",
    "\n",
    "from tensorflow.keras.models import Sequential\n",
    "from tensorflow.keras.layers import Dense\n",
    "\n",
    "def get_model():\n",
    "    model = Sequential([\n",
    "        Dense(128, activation='relu', input_shape=(train_data.shape[1],)),\n",
    "        Dense(128, activation='relu'),\n",
    "        Dense(128, activation='relu'),\n",
    "        Dense(128, activation='relu'),\n",
    "        Dense(128, activation='relu'),\n",
    "        Dense(128, activation='relu'),\n",
    "        Dense(1)\n",
    "    ])\n",
    "    \n",
    "    return model\n",
    "model = get_model()"
   ]
  },
  {
   "cell_type": "code",
   "execution_count": 8,
   "metadata": {},
   "outputs": [
    {
     "name": "stdout",
     "output_type": "stream",
     "text": [
      "Model: \"sequential\"\n",
      "_________________________________________________________________\n",
      "Layer (type)                 Output Shape              Param #   \n",
      "=================================================================\n",
      "dense (Dense)                (None, 128)               1408      \n",
      "_________________________________________________________________\n",
      "dense_1 (Dense)              (None, 128)               16512     \n",
      "_________________________________________________________________\n",
      "dense_2 (Dense)              (None, 128)               16512     \n",
      "_________________________________________________________________\n",
      "dense_3 (Dense)              (None, 128)               16512     \n",
      "_________________________________________________________________\n",
      "dense_4 (Dense)              (None, 128)               16512     \n",
      "_________________________________________________________________\n",
      "dense_5 (Dense)              (None, 128)               16512     \n",
      "_________________________________________________________________\n",
      "dense_6 (Dense)              (None, 1)                 129       \n",
      "=================================================================\n",
      "Total params: 84,097\n",
      "Trainable params: 84,097\n",
      "Non-trainable params: 0\n",
      "_________________________________________________________________\n"
     ]
    }
   ],
   "source": [
    "# Print the model summary\n",
    "model.summary()"
   ]
  },
  {
   "cell_type": "code",
   "execution_count": 9,
   "metadata": {},
   "outputs": [],
   "source": [
    "# Compile the model\n",
    "\n",
    "model.compile(optimizer='adam', loss='mse', metrics=['mae'])"
   ]
  },
  {
   "cell_type": "code",
   "execution_count": 10,
   "metadata": {},
   "outputs": [
    {
     "name": "stdout",
     "output_type": "stream",
     "text": [
      "Train on 337 samples, validate on 60 samples\n",
      "Epoch 1/100\n",
      "337/337 - 2s - loss: 0.9997 - mae: 0.8481 - val_loss: 0.9489 - val_mae: 0.8762\n",
      "Epoch 2/100\n",
      "337/337 - 0s - loss: 0.9135 - mae: 0.8157 - val_loss: 0.7786 - val_mae: 0.7921\n",
      "Epoch 3/100\n",
      "337/337 - 0s - loss: 0.6982 - mae: 0.7087 - val_loss: 0.5440 - val_mae: 0.6146\n",
      "Epoch 4/100\n",
      "337/337 - 0s - loss: 0.5819 - mae: 0.6169 - val_loss: 0.4318 - val_mae: 0.5076\n",
      "Epoch 5/100\n",
      "337/337 - 0s - loss: 0.5302 - mae: 0.5811 - val_loss: 0.4602 - val_mae: 0.5445\n",
      "Epoch 6/100\n",
      "337/337 - 0s - loss: 0.4995 - mae: 0.5822 - val_loss: 0.4385 - val_mae: 0.5286\n",
      "Epoch 7/100\n",
      "337/337 - 0s - loss: 0.4806 - mae: 0.5623 - val_loss: 0.4225 - val_mae: 0.5023\n",
      "Epoch 8/100\n",
      "337/337 - 0s - loss: 0.4924 - mae: 0.5596 - val_loss: 0.3992 - val_mae: 0.4917\n",
      "Epoch 9/100\n",
      "337/337 - 0s - loss: 0.4828 - mae: 0.5714 - val_loss: 0.4164 - val_mae: 0.5134\n",
      "Epoch 10/100\n",
      "337/337 - 0s - loss: 0.4842 - mae: 0.5553 - val_loss: 0.4139 - val_mae: 0.5161\n",
      "Epoch 11/100\n",
      "337/337 - 0s - loss: 0.4647 - mae: 0.5523 - val_loss: 0.3880 - val_mae: 0.4906\n",
      "Epoch 12/100\n",
      "337/337 - 0s - loss: 0.4503 - mae: 0.5359 - val_loss: 0.3806 - val_mae: 0.4837\n",
      "Epoch 13/100\n",
      "337/337 - 0s - loss: 0.4461 - mae: 0.5355 - val_loss: 0.3885 - val_mae: 0.4875\n",
      "Epoch 14/100\n",
      "337/337 - 0s - loss: 0.4326 - mae: 0.5266 - val_loss: 0.3974 - val_mae: 0.4829\n",
      "Epoch 15/100\n",
      "337/337 - 0s - loss: 0.4203 - mae: 0.5160 - val_loss: 0.3950 - val_mae: 0.4777\n",
      "Epoch 16/100\n",
      "337/337 - 0s - loss: 0.4140 - mae: 0.5144 - val_loss: 0.4007 - val_mae: 0.4802\n",
      "Epoch 17/100\n",
      "337/337 - 0s - loss: 0.4207 - mae: 0.5119 - val_loss: 0.4333 - val_mae: 0.5171\n",
      "Epoch 18/100\n",
      "337/337 - 0s - loss: 0.4239 - mae: 0.5170 - val_loss: 0.4060 - val_mae: 0.4884\n",
      "Epoch 19/100\n",
      "337/337 - 0s - loss: 0.4087 - mae: 0.5053 - val_loss: 0.3840 - val_mae: 0.4687\n",
      "Epoch 20/100\n",
      "337/337 - 0s - loss: 0.4043 - mae: 0.4976 - val_loss: 0.4005 - val_mae: 0.4943\n",
      "Epoch 21/100\n",
      "337/337 - 0s - loss: 0.3823 - mae: 0.4861 - val_loss: 0.4038 - val_mae: 0.4826\n",
      "Epoch 22/100\n",
      "337/337 - 0s - loss: 0.3767 - mae: 0.4899 - val_loss: 0.4116 - val_mae: 0.4888\n",
      "Epoch 23/100\n",
      "337/337 - 0s - loss: 0.3681 - mae: 0.4746 - val_loss: 0.4250 - val_mae: 0.4994\n",
      "Epoch 24/100\n",
      "337/337 - 0s - loss: 0.3684 - mae: 0.4790 - val_loss: 0.4224 - val_mae: 0.4977\n",
      "Epoch 25/100\n",
      "337/337 - 0s - loss: 0.3598 - mae: 0.4704 - val_loss: 0.4138 - val_mae: 0.4966\n",
      "Epoch 26/100\n",
      "337/337 - 0s - loss: 0.3710 - mae: 0.4792 - val_loss: 0.4026 - val_mae: 0.4923\n",
      "Epoch 27/100\n",
      "337/337 - 0s - loss: 0.3528 - mae: 0.4728 - val_loss: 0.4393 - val_mae: 0.5049\n",
      "Epoch 28/100\n",
      "337/337 - 0s - loss: 0.3520 - mae: 0.4679 - val_loss: 0.4342 - val_mae: 0.5053\n",
      "Epoch 29/100\n",
      "337/337 - 0s - loss: 0.3302 - mae: 0.4490 - val_loss: 0.4418 - val_mae: 0.5102\n",
      "Epoch 30/100\n",
      "337/337 - 0s - loss: 0.3087 - mae: 0.4331 - val_loss: 0.4528 - val_mae: 0.5148\n",
      "Epoch 31/100\n",
      "337/337 - 0s - loss: 0.3156 - mae: 0.4400 - val_loss: 0.4401 - val_mae: 0.5170\n",
      "Epoch 32/100\n",
      "337/337 - 0s - loss: 0.3035 - mae: 0.4273 - val_loss: 0.4912 - val_mae: 0.5369\n",
      "Epoch 33/100\n",
      "337/337 - 0s - loss: 0.2908 - mae: 0.4194 - val_loss: 0.4610 - val_mae: 0.5284\n",
      "Epoch 34/100\n",
      "337/337 - 0s - loss: 0.2815 - mae: 0.4119 - val_loss: 0.4458 - val_mae: 0.5175\n",
      "Epoch 35/100\n",
      "337/337 - 0s - loss: 0.2867 - mae: 0.4095 - val_loss: 0.4727 - val_mae: 0.5264\n",
      "Epoch 36/100\n",
      "337/337 - 0s - loss: 0.2586 - mae: 0.3931 - val_loss: 0.4991 - val_mae: 0.5313\n",
      "Epoch 37/100\n",
      "337/337 - 0s - loss: 0.3100 - mae: 0.4269 - val_loss: 0.6252 - val_mae: 0.5496\n",
      "Epoch 38/100\n",
      "337/337 - 0s - loss: 0.3259 - mae: 0.4401 - val_loss: 0.5097 - val_mae: 0.5509\n",
      "Epoch 39/100\n",
      "337/337 - 0s - loss: 0.4012 - mae: 0.5160 - val_loss: 0.4950 - val_mae: 0.5371\n",
      "Epoch 40/100\n",
      "337/337 - 0s - loss: 0.3782 - mae: 0.4767 - val_loss: 0.4964 - val_mae: 0.5363\n",
      "Epoch 41/100\n",
      "337/337 - 0s - loss: 0.3338 - mae: 0.4609 - val_loss: 0.4707 - val_mae: 0.5351\n",
      "Epoch 42/100\n",
      "337/337 - 0s - loss: 0.2820 - mae: 0.4171 - val_loss: 0.5117 - val_mae: 0.5447\n",
      "Epoch 43/100\n",
      "337/337 - 0s - loss: 0.2726 - mae: 0.4011 - val_loss: 0.4838 - val_mae: 0.5410\n",
      "Epoch 44/100\n",
      "337/337 - 0s - loss: 0.2316 - mae: 0.3762 - val_loss: 0.5073 - val_mae: 0.5499\n",
      "Epoch 45/100\n",
      "337/337 - 0s - loss: 0.2136 - mae: 0.3548 - val_loss: 0.5258 - val_mae: 0.5489\n",
      "Epoch 46/100\n",
      "337/337 - 0s - loss: 0.2002 - mae: 0.3410 - val_loss: 0.5239 - val_mae: 0.5535\n",
      "Epoch 47/100\n",
      "337/337 - 0s - loss: 0.2111 - mae: 0.3513 - val_loss: 0.5077 - val_mae: 0.5570\n",
      "Epoch 48/100\n",
      "337/337 - 0s - loss: 0.1896 - mae: 0.3354 - val_loss: 0.5345 - val_mae: 0.5717\n",
      "Epoch 49/100\n",
      "337/337 - 0s - loss: 0.1947 - mae: 0.3374 - val_loss: 0.5310 - val_mae: 0.5617\n",
      "Epoch 50/100\n",
      "337/337 - 0s - loss: 0.1782 - mae: 0.3233 - val_loss: 0.5275 - val_mae: 0.5639\n",
      "Epoch 51/100\n",
      "337/337 - 0s - loss: 0.1995 - mae: 0.3474 - val_loss: 0.5359 - val_mae: 0.5746\n",
      "Epoch 52/100\n",
      "337/337 - 0s - loss: 0.1679 - mae: 0.3202 - val_loss: 0.5636 - val_mae: 0.5776\n",
      "Epoch 53/100\n",
      "337/337 - 0s - loss: 0.1500 - mae: 0.2995 - val_loss: 0.5855 - val_mae: 0.5844\n",
      "Epoch 54/100\n",
      "337/337 - 0s - loss: 0.1514 - mae: 0.2996 - val_loss: 0.5931 - val_mae: 0.5858\n",
      "Epoch 55/100\n",
      "337/337 - 0s - loss: 0.1758 - mae: 0.3242 - val_loss: 0.6390 - val_mae: 0.5897\n",
      "Epoch 56/100\n",
      "337/337 - 0s - loss: 0.1920 - mae: 0.3464 - val_loss: 0.5809 - val_mae: 0.5758\n",
      "Epoch 57/100\n",
      "337/337 - 0s - loss: 0.1725 - mae: 0.3337 - val_loss: 0.5866 - val_mae: 0.5652\n",
      "Epoch 58/100\n",
      "337/337 - 0s - loss: 0.1375 - mae: 0.2927 - val_loss: 0.5804 - val_mae: 0.5921\n",
      "Epoch 59/100\n",
      "337/337 - 0s - loss: 0.1312 - mae: 0.2753 - val_loss: 0.5688 - val_mae: 0.5920\n",
      "Epoch 60/100\n",
      "337/337 - 0s - loss: 0.1385 - mae: 0.2952 - val_loss: 0.5615 - val_mae: 0.5790\n",
      "Epoch 61/100\n",
      "337/337 - 0s - loss: 0.1112 - mae: 0.2531 - val_loss: 0.5855 - val_mae: 0.5962\n",
      "Epoch 62/100\n",
      "337/337 - 0s - loss: 0.1434 - mae: 0.2997 - val_loss: 0.5656 - val_mae: 0.5934\n",
      "Epoch 63/100\n",
      "337/337 - 0s - loss: 0.1687 - mae: 0.3154 - val_loss: 0.5424 - val_mae: 0.5773\n",
      "Epoch 64/100\n",
      "337/337 - 0s - loss: 0.1296 - mae: 0.2801 - val_loss: 0.6119 - val_mae: 0.5691\n",
      "Epoch 65/100\n",
      "337/337 - 0s - loss: 0.1310 - mae: 0.2798 - val_loss: 0.6422 - val_mae: 0.5946\n",
      "Epoch 66/100\n",
      "337/337 - 0s - loss: 0.1275 - mae: 0.2842 - val_loss: 0.5598 - val_mae: 0.5641\n",
      "Epoch 67/100\n",
      "337/337 - 0s - loss: 0.0966 - mae: 0.2399 - val_loss: 0.5702 - val_mae: 0.5684\n",
      "Epoch 68/100\n",
      "337/337 - 0s - loss: 0.0901 - mae: 0.2300 - val_loss: 0.5776 - val_mae: 0.5731\n",
      "Epoch 69/100\n",
      "337/337 - 0s - loss: 0.0954 - mae: 0.2432 - val_loss: 0.6107 - val_mae: 0.5956\n",
      "Epoch 70/100\n",
      "337/337 - 0s - loss: 0.0870 - mae: 0.2272 - val_loss: 0.5818 - val_mae: 0.5751\n",
      "Epoch 71/100\n",
      "337/337 - 0s - loss: 0.0796 - mae: 0.2170 - val_loss: 0.6117 - val_mae: 0.6085\n",
      "Epoch 72/100\n",
      "337/337 - 0s - loss: 0.0802 - mae: 0.2149 - val_loss: 0.6024 - val_mae: 0.6054\n",
      "Epoch 73/100\n",
      "337/337 - 0s - loss: 0.0837 - mae: 0.2308 - val_loss: 0.6336 - val_mae: 0.6182\n",
      "Epoch 74/100\n",
      "337/337 - 0s - loss: 0.0975 - mae: 0.2484 - val_loss: 0.6076 - val_mae: 0.6048\n",
      "Epoch 75/100\n",
      "337/337 - 0s - loss: 0.1042 - mae: 0.2527 - val_loss: 0.5754 - val_mae: 0.5783\n",
      "Epoch 76/100\n",
      "337/337 - 0s - loss: 0.1028 - mae: 0.2533 - val_loss: 0.5817 - val_mae: 0.6061\n",
      "Epoch 77/100\n",
      "337/337 - 0s - loss: 0.0745 - mae: 0.2155 - val_loss: 0.5904 - val_mae: 0.5912\n",
      "Epoch 78/100\n",
      "337/337 - 0s - loss: 0.0587 - mae: 0.1896 - val_loss: 0.6489 - val_mae: 0.6281\n",
      "Epoch 79/100\n",
      "337/337 - 0s - loss: 0.0559 - mae: 0.1807 - val_loss: 0.5966 - val_mae: 0.5941\n",
      "Epoch 80/100\n",
      "337/337 - 0s - loss: 0.0586 - mae: 0.1868 - val_loss: 0.6128 - val_mae: 0.6049\n",
      "Epoch 81/100\n",
      "337/337 - 0s - loss: 0.0895 - mae: 0.2356 - val_loss: 0.5849 - val_mae: 0.5952\n",
      "Epoch 82/100\n",
      "337/337 - 0s - loss: 0.1120 - mae: 0.2590 - val_loss: 0.5907 - val_mae: 0.5677\n",
      "Epoch 83/100\n",
      "337/337 - 0s - loss: 0.0757 - mae: 0.2152 - val_loss: 0.6346 - val_mae: 0.6072\n",
      "Epoch 84/100\n",
      "337/337 - 0s - loss: 0.0716 - mae: 0.2064 - val_loss: 0.5868 - val_mae: 0.6007\n",
      "Epoch 85/100\n",
      "337/337 - 0s - loss: 0.0698 - mae: 0.2084 - val_loss: 0.6082 - val_mae: 0.5998\n",
      "Epoch 86/100\n",
      "337/337 - 0s - loss: 0.0666 - mae: 0.2036 - val_loss: 0.6348 - val_mae: 0.6133\n",
      "Epoch 87/100\n",
      "337/337 - 0s - loss: 0.0579 - mae: 0.1857 - val_loss: 0.5995 - val_mae: 0.5831\n",
      "Epoch 88/100\n",
      "337/337 - 0s - loss: 0.0444 - mae: 0.1668 - val_loss: 0.6574 - val_mae: 0.6269\n",
      "Epoch 89/100\n",
      "337/337 - 0s - loss: 0.0513 - mae: 0.1768 - val_loss: 0.6399 - val_mae: 0.6021\n"
     ]
    },
    {
     "name": "stdout",
     "output_type": "stream",
     "text": [
      "Epoch 90/100\n",
      "337/337 - 0s - loss: 0.0500 - mae: 0.1799 - val_loss: 0.5851 - val_mae: 0.6043\n",
      "Epoch 91/100\n",
      "337/337 - 0s - loss: 0.0428 - mae: 0.1571 - val_loss: 0.5589 - val_mae: 0.5876\n",
      "Epoch 92/100\n",
      "337/337 - 0s - loss: 0.0360 - mae: 0.1440 - val_loss: 0.5963 - val_mae: 0.6142\n",
      "Epoch 93/100\n",
      "337/337 - 0s - loss: 0.0313 - mae: 0.1321 - val_loss: 0.5967 - val_mae: 0.6084\n",
      "Epoch 94/100\n",
      "337/337 - 0s - loss: 0.0401 - mae: 0.1547 - val_loss: 0.5942 - val_mae: 0.6197\n",
      "Epoch 95/100\n",
      "337/337 - 0s - loss: 0.0413 - mae: 0.1531 - val_loss: 0.5719 - val_mae: 0.5876\n",
      "Epoch 96/100\n",
      "337/337 - 0s - loss: 0.0328 - mae: 0.1403 - val_loss: 0.6103 - val_mae: 0.6273\n",
      "Epoch 97/100\n",
      "337/337 - 0s - loss: 0.0320 - mae: 0.1381 - val_loss: 0.5844 - val_mae: 0.6001\n",
      "Epoch 98/100\n",
      "337/337 - 0s - loss: 0.0272 - mae: 0.1223 - val_loss: 0.5939 - val_mae: 0.6200\n",
      "Epoch 99/100\n",
      "337/337 - 0s - loss: 0.0302 - mae: 0.1340 - val_loss: 0.6183 - val_mae: 0.6210\n",
      "Epoch 100/100\n",
      "337/337 - 0s - loss: 0.0308 - mae: 0.1361 - val_loss: 0.6031 - val_mae: 0.5986\n"
     ]
    }
   ],
   "source": [
    "# Train the model, with some of the data reserved for validation\n",
    "\n",
    "history = model.fit(train_data, train_targets, epochs=100, validation_split=0.15, batch_size=64, verbose=2)"
   ]
  },
  {
   "cell_type": "code",
   "execution_count": 11,
   "metadata": {},
   "outputs": [
    {
     "name": "stdout",
     "output_type": "stream",
     "text": [
      "45/1 - 0s - loss: 0.5734 - mae: 0.7018\n"
     ]
    },
    {
     "data": {
      "text/plain": [
       "[0.7672805772887336, 0.7017977]"
      ]
     },
     "execution_count": 11,
     "metadata": {},
     "output_type": "execute_result"
    }
   ],
   "source": [
    "# Evaluate the model on test set\n",
    "\n",
    "model.evaluate(test_data, test_targets, verbose=2)"
   ]
  },
  {
   "cell_type": "markdown",
   "metadata": {},
   "source": [
    "#### Plot the learning curves"
   ]
  },
  {
   "cell_type": "code",
   "execution_count": 12,
   "metadata": {},
   "outputs": [],
   "source": [
    "import matplotlib.pyplot as plt\n",
    "%matplotlib inline"
   ]
  },
  {
   "cell_type": "code",
   "execution_count": 13,
   "metadata": {
    "scrolled": true
   },
   "outputs": [
    {
     "data": {
      "image/png": "[encoded data removed]",
      "text/plain": [
       "<Figure size 432x288 with 1 Axes>"
      ]
     },
     "metadata": {
      "needs_background": "light"
     },
     "output_type": "display_data"
    }
   ],
   "source": [
    "# Plot the training and validation loss\n",
    "\n",
    "plt.plot(history.history['loss'])\n",
    "plt.plot(history.history['val_loss'])\n",
    "plt.title('Loss vs epochs')\n",
    "plt.xlabel('Epoch')\n",
    "plt.ylabel('Loss')\n",
    "plt.legend(['Training', 'Validation'], loc='upper right')\n",
    "plt.show()"
   ]
  },
  {
   "cell_type": "markdown",
   "metadata": {},
   "source": [
    "***\n",
    "<a id=\"coding_tutorial_2\"></a>\n",
    "## Model regularisation"
   ]
  },
  {
   "cell_type": "markdown",
   "metadata": {},
   "source": [
    "#### Adding regularisation with weight decay and dropout"
   ]
  },
  {
   "cell_type": "code",
   "execution_count": 14,
   "metadata": {},
   "outputs": [],
   "source": [
    "from tensorflow.keras.layers import Dropout\n",
    "from tensorflow.keras import regularizers"
   ]
  },
  {
   "cell_type": "code",
   "execution_count": 15,
   "metadata": {},
   "outputs": [],
   "source": [
    "def get_regularized_model(wd, rate):\n",
    "    model = Sequential([\n",
    "            Dense(128, kernel_regularizer=regularizers.l2(wd), activation='relu', input_shape=(train_data.shape[1],)),\n",
    "            Dropout(rate),\n",
    "            Dense(128, kernel_regularizer=regularizers.l2(wd), activation='relu'),\n",
    "            Dropout(rate),\n",
    "            Dense(128, kernel_regularizer=regularizers.l2(wd), activation='relu'),\n",
    "            Dropout(rate),\n",
    "            Dense(128, kernel_regularizer=regularizers.l2(wd), activation='relu'),\n",
    "            Dropout(rate),\n",
    "            Dense(128, kernel_regularizer=regularizers.l2(wd), activation='relu'),\n",
    "            Dropout(rate),\n",
    "            Dense(128, kernel_regularizer=regularizers.l2(wd), activation='relu'),\n",
    "            Dropout(rate),\n",
    "            Dense(1)\n",
    "        ])\n",
    "    \n",
    "    return model"
   ]
  },
  {
   "cell_type": "code",
   "execution_count": 16,
   "metadata": {},
   "outputs": [],
   "source": [
    "# Re-build the model with weight decay and dropout layers\n",
    "model = get_regularized_model(1e-5, 0.3)"
   ]
  },
  {
   "cell_type": "code",
   "execution_count": 17,
   "metadata": {},
   "outputs": [],
   "source": [
    "model.compile(optimizer='adam', loss='mse', metrics=['mae'])"
   ]
  },
  {
   "cell_type": "code",
   "execution_count": 18,
   "metadata": {},
   "outputs": [
    {
     "name": "stdout",
     "output_type": "stream",
     "text": [
      "Train on 337 samples, validate on 60 samples\n",
      "Epoch 1/100\n",
      "337/337 - 1s - loss: 1.0168 - mae: 0.8531 - val_loss: 0.9947 - val_mae: 0.8942\n",
      "Epoch 2/100\n",
      "337/337 - 0s - loss: 1.0109 - mae: 0.8513 - val_loss: 0.9816 - val_mae: 0.8887\n",
      "Epoch 3/100\n",
      "337/337 - 0s - loss: 0.9893 - mae: 0.8453 - val_loss: 0.9465 - val_mae: 0.8724\n",
      "Epoch 4/100\n",
      "337/337 - 0s - loss: 0.9204 - mae: 0.8235 - val_loss: 0.8422 - val_mae: 0.8177\n",
      "Epoch 5/100\n",
      "337/337 - 0s - loss: 0.8207 - mae: 0.7826 - val_loss: 0.6196 - val_mae: 0.6991\n",
      "Epoch 6/100\n",
      "337/337 - 0s - loss: 0.6850 - mae: 0.6968 - val_loss: 0.4365 - val_mae: 0.5667\n",
      "Epoch 7/100\n",
      "337/337 - 0s - loss: 0.6152 - mae: 0.6385 - val_loss: 0.4044 - val_mae: 0.5300\n",
      "Epoch 8/100\n",
      "337/337 - 0s - loss: 0.6095 - mae: 0.6314 - val_loss: 0.4101 - val_mae: 0.5292\n",
      "Epoch 9/100\n",
      "337/337 - 0s - loss: 0.5891 - mae: 0.6256 - val_loss: 0.4147 - val_mae: 0.5044\n",
      "Epoch 10/100\n",
      "337/337 - 0s - loss: 0.5931 - mae: 0.6308 - val_loss: 0.4040 - val_mae: 0.5050\n",
      "Epoch 11/100\n",
      "337/337 - 0s - loss: 0.5533 - mae: 0.5925 - val_loss: 0.4181 - val_mae: 0.5193\n",
      "Epoch 12/100\n",
      "337/337 - 0s - loss: 0.5916 - mae: 0.6283 - val_loss: 0.4028 - val_mae: 0.5119\n",
      "Epoch 13/100\n",
      "337/337 - 0s - loss: 0.5691 - mae: 0.6100 - val_loss: 0.4183 - val_mae: 0.5257\n",
      "Epoch 14/100\n",
      "337/337 - 0s - loss: 0.5704 - mae: 0.6072 - val_loss: 0.4193 - val_mae: 0.5326\n",
      "Epoch 15/100\n",
      "337/337 - 0s - loss: 0.5472 - mae: 0.6164 - val_loss: 0.4090 - val_mae: 0.5177\n",
      "Epoch 16/100\n",
      "337/337 - 0s - loss: 0.5434 - mae: 0.5979 - val_loss: 0.4024 - val_mae: 0.4977\n",
      "Epoch 17/100\n",
      "337/337 - 0s - loss: 0.5580 - mae: 0.5887 - val_loss: 0.4155 - val_mae: 0.5117\n",
      "Epoch 18/100\n",
      "337/337 - 0s - loss: 0.5519 - mae: 0.6064 - val_loss: 0.4254 - val_mae: 0.5174\n",
      "Epoch 19/100\n",
      "337/337 - 0s - loss: 0.5682 - mae: 0.6153 - val_loss: 0.3962 - val_mae: 0.4922\n",
      "Epoch 20/100\n",
      "337/337 - 0s - loss: 0.5382 - mae: 0.5971 - val_loss: 0.4173 - val_mae: 0.5192\n",
      "Epoch 21/100\n",
      "337/337 - 0s - loss: 0.5236 - mae: 0.5919 - val_loss: 0.4279 - val_mae: 0.5328\n",
      "Epoch 22/100\n",
      "337/337 - 0s - loss: 0.5100 - mae: 0.5738 - val_loss: 0.4171 - val_mae: 0.5198\n",
      "Epoch 23/100\n",
      "337/337 - 0s - loss: 0.5303 - mae: 0.5954 - val_loss: 0.4067 - val_mae: 0.5075\n",
      "Epoch 24/100\n",
      "337/337 - 0s - loss: 0.5364 - mae: 0.5922 - val_loss: 0.4042 - val_mae: 0.5039\n",
      "Epoch 25/100\n",
      "337/337 - 0s - loss: 0.5110 - mae: 0.5731 - val_loss: 0.4086 - val_mae: 0.5047\n",
      "Epoch 26/100\n",
      "337/337 - 0s - loss: 0.5264 - mae: 0.5862 - val_loss: 0.3980 - val_mae: 0.4897\n",
      "Epoch 27/100\n",
      "337/337 - 0s - loss: 0.4959 - mae: 0.5559 - val_loss: 0.4111 - val_mae: 0.5014\n",
      "Epoch 28/100\n",
      "337/337 - 0s - loss: 0.5107 - mae: 0.5818 - val_loss: 0.4060 - val_mae: 0.4905\n",
      "Epoch 29/100\n",
      "337/337 - 0s - loss: 0.5109 - mae: 0.5815 - val_loss: 0.4067 - val_mae: 0.4796\n",
      "Epoch 30/100\n",
      "337/337 - 0s - loss: 0.5490 - mae: 0.5914 - val_loss: 0.4246 - val_mae: 0.5106\n",
      "Epoch 31/100\n",
      "337/337 - 0s - loss: 0.4907 - mae: 0.5660 - val_loss: 0.4324 - val_mae: 0.5320\n",
      "Epoch 32/100\n",
      "337/337 - 0s - loss: 0.4908 - mae: 0.5749 - val_loss: 0.4171 - val_mae: 0.5146\n",
      "Epoch 33/100\n",
      "337/337 - 0s - loss: 0.5267 - mae: 0.5771 - val_loss: 0.4299 - val_mae: 0.5125\n",
      "Epoch 34/100\n",
      "337/337 - 0s - loss: 0.5114 - mae: 0.5770 - val_loss: 0.4181 - val_mae: 0.5058\n",
      "Epoch 35/100\n",
      "337/337 - 0s - loss: 0.5288 - mae: 0.5941 - val_loss: 0.4004 - val_mae: 0.4872\n",
      "Epoch 36/100\n",
      "337/337 - 0s - loss: 0.5236 - mae: 0.5732 - val_loss: 0.4262 - val_mae: 0.5061\n",
      "Epoch 37/100\n",
      "337/337 - 0s - loss: 0.4928 - mae: 0.5694 - val_loss: 0.4138 - val_mae: 0.5133\n",
      "Epoch 38/100\n",
      "337/337 - 0s - loss: 0.4885 - mae: 0.5696 - val_loss: 0.4162 - val_mae: 0.5108\n",
      "Epoch 39/100\n",
      "337/337 - 0s - loss: 0.4656 - mae: 0.5364 - val_loss: 0.4157 - val_mae: 0.4952\n",
      "Epoch 40/100\n",
      "337/337 - 0s - loss: 0.4870 - mae: 0.5581 - val_loss: 0.3992 - val_mae: 0.4822\n",
      "Epoch 41/100\n",
      "337/337 - 0s - loss: 0.4919 - mae: 0.5707 - val_loss: 0.4086 - val_mae: 0.4952\n",
      "Epoch 42/100\n",
      "337/337 - 0s - loss: 0.4847 - mae: 0.5669 - val_loss: 0.4024 - val_mae: 0.4959\n",
      "Epoch 43/100\n",
      "337/337 - 0s - loss: 0.4662 - mae: 0.5431 - val_loss: 0.4407 - val_mae: 0.5100\n",
      "Epoch 44/100\n",
      "337/337 - 0s - loss: 0.4792 - mae: 0.5529 - val_loss: 0.4309 - val_mae: 0.5278\n",
      "Epoch 45/100\n",
      "337/337 - 0s - loss: 0.4953 - mae: 0.5746 - val_loss: 0.4270 - val_mae: 0.5138\n",
      "Epoch 46/100\n",
      "337/337 - 0s - loss: 0.4922 - mae: 0.5556 - val_loss: 0.4339 - val_mae: 0.5225\n",
      "Epoch 47/100\n",
      "337/337 - 0s - loss: 0.4828 - mae: 0.5573 - val_loss: 0.4394 - val_mae: 0.5422\n",
      "Epoch 48/100\n",
      "337/337 - 0s - loss: 0.5012 - mae: 0.5676 - val_loss: 0.4642 - val_mae: 0.5473\n",
      "Epoch 49/100\n",
      "337/337 - 0s - loss: 0.4573 - mae: 0.5408 - val_loss: 0.4122 - val_mae: 0.5072\n",
      "Epoch 50/100\n",
      "337/337 - 0s - loss: 0.4797 - mae: 0.5574 - val_loss: 0.3920 - val_mae: 0.4910\n",
      "Epoch 51/100\n",
      "337/337 - 0s - loss: 0.4542 - mae: 0.5382 - val_loss: 0.3902 - val_mae: 0.4867\n",
      "Epoch 52/100\n",
      "337/337 - 0s - loss: 0.4298 - mae: 0.5263 - val_loss: 0.3879 - val_mae: 0.4778\n",
      "Epoch 53/100\n",
      "337/337 - 0s - loss: 0.4703 - mae: 0.5395 - val_loss: 0.4355 - val_mae: 0.5029\n",
      "Epoch 54/100\n",
      "337/337 - 0s - loss: 0.4743 - mae: 0.5473 - val_loss: 0.4432 - val_mae: 0.5326\n",
      "Epoch 55/100\n",
      "337/337 - 0s - loss: 0.4407 - mae: 0.5398 - val_loss: 0.4103 - val_mae: 0.5094\n",
      "Epoch 56/100\n",
      "337/337 - 0s - loss: 0.4848 - mae: 0.5612 - val_loss: 0.4013 - val_mae: 0.4914\n",
      "Epoch 57/100\n",
      "337/337 - 0s - loss: 0.4173 - mae: 0.5138 - val_loss: 0.3991 - val_mae: 0.4852\n",
      "Epoch 58/100\n",
      "337/337 - 0s - loss: 0.4385 - mae: 0.5171 - val_loss: 0.4090 - val_mae: 0.4939\n",
      "Epoch 59/100\n",
      "337/337 - 0s - loss: 0.4560 - mae: 0.5372 - val_loss: 0.4189 - val_mae: 0.5136\n",
      "Epoch 60/100\n",
      "337/337 - 0s - loss: 0.4135 - mae: 0.5171 - val_loss: 0.4454 - val_mae: 0.5183\n",
      "Epoch 61/100\n",
      "337/337 - 0s - loss: 0.4744 - mae: 0.5540 - val_loss: 0.4434 - val_mae: 0.5261\n",
      "Epoch 62/100\n",
      "337/337 - 0s - loss: 0.4281 - mae: 0.5192 - val_loss: 0.4754 - val_mae: 0.5251\n",
      "Epoch 63/100\n",
      "337/337 - 0s - loss: 0.4502 - mae: 0.5366 - val_loss: 0.4499 - val_mae: 0.5234\n",
      "Epoch 64/100\n",
      "337/337 - 0s - loss: 0.4621 - mae: 0.5468 - val_loss: 0.4538 - val_mae: 0.5183\n",
      "Epoch 65/100\n",
      "337/337 - 0s - loss: 0.4201 - mae: 0.5135 - val_loss: 0.4434 - val_mae: 0.5114\n",
      "Epoch 66/100\n",
      "337/337 - 0s - loss: 0.4080 - mae: 0.5086 - val_loss: 0.4234 - val_mae: 0.5109\n",
      "Epoch 67/100\n",
      "337/337 - 0s - loss: 0.4331 - mae: 0.5226 - val_loss: 0.4365 - val_mae: 0.5093\n",
      "Epoch 68/100\n",
      "337/337 - 0s - loss: 0.4276 - mae: 0.5179 - val_loss: 0.4590 - val_mae: 0.5153\n",
      "Epoch 69/100\n",
      "337/337 - 0s - loss: 0.4292 - mae: 0.5233 - val_loss: 0.4577 - val_mae: 0.5194\n",
      "Epoch 70/100\n",
      "337/337 - 0s - loss: 0.4224 - mae: 0.5175 - val_loss: 0.4627 - val_mae: 0.5257\n",
      "Epoch 71/100\n",
      "337/337 - 0s - loss: 0.4367 - mae: 0.5289 - val_loss: 0.4688 - val_mae: 0.5281\n",
      "Epoch 72/100\n",
      "337/337 - 0s - loss: 0.4309 - mae: 0.5154 - val_loss: 0.4637 - val_mae: 0.5244\n",
      "Epoch 73/100\n",
      "337/337 - 0s - loss: 0.4237 - mae: 0.5165 - val_loss: 0.4596 - val_mae: 0.5204\n",
      "Epoch 74/100\n",
      "337/337 - 0s - loss: 0.4106 - mae: 0.5076 - val_loss: 0.4401 - val_mae: 0.5093\n",
      "Epoch 75/100\n",
      "337/337 - 0s - loss: 0.3961 - mae: 0.5064 - val_loss: 0.4552 - val_mae: 0.5192\n",
      "Epoch 76/100\n",
      "337/337 - 0s - loss: 0.4044 - mae: 0.5017 - val_loss: 0.4734 - val_mae: 0.5222\n",
      "Epoch 77/100\n",
      "337/337 - 0s - loss: 0.4436 - mae: 0.5178 - val_loss: 0.4697 - val_mae: 0.5240\n",
      "Epoch 78/100\n",
      "337/337 - 0s - loss: 0.3982 - mae: 0.5019 - val_loss: 0.4870 - val_mae: 0.5271\n",
      "Epoch 79/100\n",
      "337/337 - 0s - loss: 0.4043 - mae: 0.5050 - val_loss: 0.4750 - val_mae: 0.5203\n",
      "Epoch 80/100\n",
      "337/337 - 0s - loss: 0.3937 - mae: 0.4920 - val_loss: 0.5091 - val_mae: 0.5265\n",
      "Epoch 81/100\n",
      "337/337 - 0s - loss: 0.4492 - mae: 0.5263 - val_loss: 0.4601 - val_mae: 0.5098\n",
      "Epoch 82/100\n",
      "337/337 - 0s - loss: 0.4278 - mae: 0.5222 - val_loss: 0.4850 - val_mae: 0.5354\n",
      "Epoch 83/100\n",
      "337/337 - 0s - loss: 0.4057 - mae: 0.5155 - val_loss: 0.4858 - val_mae: 0.5419\n",
      "Epoch 84/100\n",
      "337/337 - 0s - loss: 0.3924 - mae: 0.5010 - val_loss: 0.4756 - val_mae: 0.5293\n",
      "Epoch 85/100\n",
      "337/337 - 0s - loss: 0.4050 - mae: 0.4992 - val_loss: 0.4541 - val_mae: 0.5066\n",
      "Epoch 86/100\n",
      "337/337 - 0s - loss: 0.3874 - mae: 0.4904 - val_loss: 0.4334 - val_mae: 0.4927\n",
      "Epoch 87/100\n",
      "337/337 - 0s - loss: 0.3980 - mae: 0.4976 - val_loss: 0.4852 - val_mae: 0.5148\n",
      "Epoch 88/100\n",
      "337/337 - 0s - loss: 0.4212 - mae: 0.5033 - val_loss: 0.4574 - val_mae: 0.5159\n",
      "Epoch 89/100\n",
      "337/337 - 0s - loss: 0.4127 - mae: 0.5168 - val_loss: 0.4479 - val_mae: 0.5137\n"
     ]
    },
    {
     "name": "stdout",
     "output_type": "stream",
     "text": [
      "Epoch 90/100\n",
      "337/337 - 0s - loss: 0.3890 - mae: 0.4953 - val_loss: 0.4581 - val_mae: 0.5061\n",
      "Epoch 91/100\n",
      "337/337 - 0s - loss: 0.4202 - mae: 0.5152 - val_loss: 0.4265 - val_mae: 0.4953\n",
      "Epoch 92/100\n",
      "337/337 - 0s - loss: 0.3912 - mae: 0.4961 - val_loss: 0.4854 - val_mae: 0.5290\n",
      "Epoch 93/100\n",
      "337/337 - 0s - loss: 0.3969 - mae: 0.4980 - val_loss: 0.4858 - val_mae: 0.5461\n",
      "Epoch 94/100\n",
      "337/337 - 0s - loss: 0.3940 - mae: 0.4989 - val_loss: 0.5078 - val_mae: 0.5524\n",
      "Epoch 95/100\n",
      "337/337 - 0s - loss: 0.3827 - mae: 0.4897 - val_loss: 0.4978 - val_mae: 0.5384\n",
      "Epoch 96/100\n",
      "337/337 - 0s - loss: 0.3771 - mae: 0.4850 - val_loss: 0.4503 - val_mae: 0.5136\n",
      "Epoch 97/100\n",
      "337/337 - 0s - loss: 0.3931 - mae: 0.5065 - val_loss: 0.4493 - val_mae: 0.5044\n",
      "Epoch 98/100\n",
      "337/337 - 0s - loss: 0.3785 - mae: 0.4883 - val_loss: 0.4637 - val_mae: 0.5165\n",
      "Epoch 99/100\n",
      "337/337 - 0s - loss: 0.3846 - mae: 0.4839 - val_loss: 0.4876 - val_mae: 0.5263\n",
      "Epoch 100/100\n",
      "337/337 - 0s - loss: 0.3933 - mae: 0.4870 - val_loss: 0.4501 - val_mae: 0.5090\n"
     ]
    }
   ],
   "source": [
    "# Train the model, with some of the data reserved for validation\n",
    "history = model.fit(train_data, train_targets, epochs=100, validation_split=0.15, batch_size=64, verbose=2)"
   ]
  },
  {
   "cell_type": "code",
   "execution_count": 19,
   "metadata": {},
   "outputs": [
    {
     "name": "stdout",
     "output_type": "stream",
     "text": [
      "45/1 - 0s - loss: 0.3217 - mae: 0.5267\n"
     ]
    },
    {
     "data": {
      "text/plain": [
       "[0.4075713333156374, 0.5267023]"
      ]
     },
     "execution_count": 19,
     "metadata": {},
     "output_type": "execute_result"
    }
   ],
   "source": [
    "# Evaluate the model on the test set\n",
    "model.evaluate(test_data, test_targets, verbose=2)"
   ]
  },
  {
   "cell_type": "code",
   "execution_count": 20,
   "metadata": {},
   "outputs": [
    {
     "data": {
      "image/png": "[encoded data removed]",
      "text/plain": [
       "<Figure size 432x288 with 1 Axes>"
      ]
     },
     "metadata": {
      "needs_background": "light"
     },
     "output_type": "display_data"
    }
   ],
   "source": [
    "# Plot the training and validation loss\n",
    "\n",
    "import matplotlib.pyplot as plt\n",
    "\n",
    "plt.plot(history.history['loss'])\n",
    "plt.plot(history.history['val_loss'])\n",
    "plt.title('Loss vs. epochs')\n",
    "plt.ylabel('Loss')\n",
    "plt.xlabel('Epoch')\n",
    "plt.legend(['Training', 'Validation'], loc='upper right')\n",
    "plt.show()"
   ]
  },
  {
   "cell_type": "markdown",
   "metadata": {},
   "source": [
    "***\n",
    "<a id=\"coding_tutorial_3\"></a>\n",
    "## Introduction to callbacks"
   ]
  },
  {
   "cell_type": "markdown",
   "metadata": {},
   "source": [
    "#### Example training callback"
   ]
  },
  {
   "cell_type": "code",
   "execution_count": 21,
   "metadata": {},
   "outputs": [],
   "source": [
    "# Write a custom callback\n",
    "\n",
    "from tensorflow.keras.callbacks import Callback\n",
    "\n",
    "class TrainingCallback(Callback):\n",
    "    def on_train_begin(self, logs=None):\n",
    "        print(f\"Starting Training....\")\n",
    "    \n",
    "    def on_epoch_begin(self, epoch, logs=None):\n",
    "        print(f\"Starting Epoch {epoch}\")\n",
    "    \n",
    "    def on_train_batch_begin(self, batch, logs=None):\n",
    "        print(f\"Training: Starting Batch {batch}\")\n",
    "        \n",
    "    def on_train_batch_end(self, batch, logs=None):\n",
    "        print(f'Training Finished batch {batch}')\n",
    "        \n",
    "    def on_epoch_end(self, epoch, logs=None):\n",
    "        print(f'Finished epoch {epoch}')\n",
    "        \n",
    "    def on_train_end(self, logs=None):\n",
    "        print('Training Finished...')"
   ]
  },
  {
   "cell_type": "code",
   "execution_count": 22,
   "metadata": {},
   "outputs": [],
   "source": [
    "class TestingCallback(Callback):\n",
    "    def on_test_begin(self, logs=None):\n",
    "        print(\"Starting testing...\")\n",
    "        \n",
    "    def on_test_batch_begin(self, batch, logs=None):\n",
    "        print(f\"Testing Starting batch {batch}\")\n",
    "        \n",
    "    def on_test_batch_end(self, batch, logs=None):\n",
    "        print(f\"Testing Finished batch {batch}\")\n",
    "        \n",
    "    def on_test_end(self, logs=None):\n",
    "        print(\"Finished testing!\")"
   ]
  },
  {
   "cell_type": "code",
   "execution_count": 23,
   "metadata": {},
   "outputs": [],
   "source": [
    "class PredictionCallback(Callback):\n",
    "    def on_predict_begin(self, logs=None):\n",
    "        print(\"Starting prediction...\")\n",
    "        \n",
    "    def on_predict_batch_begin(self, batch, logs=None):\n",
    "        print(f\"Prediction: Starting batch {batch}\")\n",
    "        \n",
    "    def on_predict_batch_end(self, batch, logs=None):\n",
    "        print(f\"Prediction: Finished batch {batch}\")\n",
    "        \n",
    "    def on_predict_end(self, logs=None):\n",
    "        print(\"Finished Prediction!\")        "
   ]
  },
  {
   "cell_type": "code",
   "execution_count": 24,
   "metadata": {},
   "outputs": [],
   "source": [
    "# Rebuild the model\n",
    "\n",
    "model = get_regularized_model(1e-5, 0.3)"
   ]
  },
  {
   "cell_type": "code",
   "execution_count": 25,
   "metadata": {},
   "outputs": [],
   "source": [
    "# compile the model\n",
    "\n",
    "model.compile(optimizer='adam', loss='mae')"
   ]
  },
  {
   "cell_type": "markdown",
   "metadata": {},
   "source": [
    "#### Train the model with the callback"
   ]
  },
  {
   "cell_type": "code",
   "execution_count": 26,
   "metadata": {},
   "outputs": [
    {
     "name": "stdout",
     "output_type": "stream",
     "text": [
      "Starting Training....\n",
      "Starting Epoch 0\n",
      "Training: Starting Batch 0\n",
      "Training Finished batch 0\n",
      "Training: Starting Batch 1\n",
      "Training Finished batch 1\n",
      "Training: Starting Batch 2\n",
      "Training Finished batch 2\n",
      "Training: Starting Batch 3\n",
      "Training Finished batch 3\n",
      "Finished epoch 0\n",
      "Starting Epoch 1\n",
      "Training: Starting Batch 0\n",
      "Training Finished batch 0\n",
      "Training: Starting Batch 1\n",
      "Training Finished batch 1\n",
      "Training: Starting Batch 2\n",
      "Training Finished batch 2\n",
      "Training: Starting Batch 3\n",
      "Training Finished batch 3\n",
      "Finished epoch 1\n",
      "Starting Epoch 2\n",
      "Training: Starting Batch 0\n",
      "Training Finished batch 0\n",
      "Training: Starting Batch 1\n",
      "Training Finished batch 1\n",
      "Training: Starting Batch 2\n",
      "Training Finished batch 2\n",
      "Training: Starting Batch 3\n",
      "Training Finished batch 3\n",
      "Finished epoch 2\n",
      "Training Finished...\n"
     ]
    },
    {
     "data": {
      "text/plain": [
       "<tensorflow.python.keras.callbacks.History at 0x15de967ba48>"
      ]
     },
     "execution_count": 26,
     "metadata": {},
     "output_type": "execute_result"
    }
   ],
   "source": [
    "# Train the model, with some of the data reserved for validation\n",
    "\n",
    "model.fit(train_data, train_targets, epochs=3, batch_size=128, verbose=False, callbacks=[TrainingCallback()])"
   ]
  },
  {
   "cell_type": "code",
   "execution_count": 27,
   "metadata": {},
   "outputs": [
    {
     "name": "stdout",
     "output_type": "stream",
     "text": [
      "Starting testing...\n",
      "Testing Starting batch 0\n",
      "Testing Finished batch 0\n",
      "Testing Starting batch 1\n",
      "Testing Finished batch 1\n",
      "Finished testing!\n"
     ]
    },
    {
     "data": {
      "text/plain": [
       "0.8114979532029893"
      ]
     },
     "execution_count": 27,
     "metadata": {},
     "output_type": "execute_result"
    }
   ],
   "source": [
    "model.evaluate(test_data, test_targets, verbose=False, callbacks=[TestingCallback()])"
   ]
  },
  {
   "cell_type": "code",
   "execution_count": 28,
   "metadata": {},
   "outputs": [
    {
     "name": "stdout",
     "output_type": "stream",
     "text": [
      "Starting prediction...\n",
      "Prediction: Starting batch 0\n",
      "Prediction: Finished batch 0\n",
      "Prediction: Starting batch 1\n",
      "Prediction: Finished batch 1\n",
      "Finished Prediction!\n"
     ]
    },
    {
     "data": {
      "text/plain": [
       "array([[-0.10230544],\n",
       "       [-0.12876685],\n",
       "       [-0.05383684],\n",
       "       [-0.12186787],\n",
       "       [-0.1333321 ],\n",
       "       [-0.11019683],\n",
       "       [-0.1028384 ],\n",
       "       [-0.10789131],\n",
       "       [-0.09258064],\n",
       "       [-0.10989442],\n",
       "       [-0.08476475],\n",
       "       [-0.04930463],\n",
       "       [-0.10755298],\n",
       "       [-0.11538202],\n",
       "       [-0.11150641],\n",
       "       [-0.13951117],\n",
       "       [-0.08533153],\n",
       "       [-0.1064572 ],\n",
       "       [-0.06514765],\n",
       "       [-0.07144564],\n",
       "       [-0.13949154],\n",
       "       [-0.09270068],\n",
       "       [-0.11971813],\n",
       "       [-0.07133152],\n",
       "       [-0.10651574],\n",
       "       [-0.14453515],\n",
       "       [-0.10576595],\n",
       "       [-0.05645908],\n",
       "       [-0.05821655],\n",
       "       [-0.11425278],\n",
       "       [-0.12339952],\n",
       "       [-0.06010836],\n",
       "       [-0.05540754],\n",
       "       [-0.13725455],\n",
       "       [-0.04859525],\n",
       "       [-0.08043445],\n",
       "       [-0.13058569],\n",
       "       [-0.06476553],\n",
       "       [-0.13206829],\n",
       "       [-0.13942072],\n",
       "       [-0.06877672],\n",
       "       [-0.14699633],\n",
       "       [-0.11719977],\n",
       "       [-0.09801399],\n",
       "       [-0.10234651]], dtype=float32)"
      ]
     },
     "execution_count": 28,
     "metadata": {},
     "output_type": "execute_result"
    }
   ],
   "source": [
    "model.predict(test_data, verbose=False, callbacks=[PredictionCallback()])"
   ]
  },
  {
   "cell_type": "code",
   "execution_count": null,
   "metadata": {},
   "outputs": [],
   "source": []
  }
 ],
 "metadata": {
  "kernelspec": {
   "display_name": "Python 3",
   "language": "python",
   "name": "python3"
  },
  "language_info": {
   "codemirror_mode": {
    "name": "ipython",
    "version": 3
   },
   "file_extension": ".py",
   "mimetype": "text/x-python",
   "name": "python",
   "nbconvert_exporter": "python",
   "pygments_lexer": "ipython3",
   "version": "3.7.6"
  }
 },
 "nbformat": 4,
 "nbformat_minor": 2
}
