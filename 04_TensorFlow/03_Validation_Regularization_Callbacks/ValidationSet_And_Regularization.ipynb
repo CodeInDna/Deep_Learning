{
 "cells": [
  {
   "cell_type": "code",
   "execution_count": 1,
   "metadata": {},
   "outputs": [
    {
     "name": "stdout",
     "output_type": "stream",
     "text": [
      "2.0.0\n"
     ]
    }
   ],
   "source": [
    "import tensorflow as tf\n",
    "print(tf.__version__)"
   ]
  },
  {
   "cell_type": "markdown",
   "metadata": {},
   "source": [
    "# Validation"
   ]
  },
  {
   "cell_type": "markdown",
   "metadata": {},
   "source": [
    "***\n",
    "<a id=\"coding_tutorial_1\"></a>\n",
    "## Validation sets"
   ]
  },
  {
   "cell_type": "markdown",
   "metadata": {},
   "source": [
    "#### Load the data"
   ]
  },
  {
   "cell_type": "code",
   "execution_count": 2,
   "metadata": {},
   "outputs": [
    {
     "name": "stdout",
     "output_type": "stream",
     "text": [
      ".. _diabetes_dataset:\n",
      "\n",
      "Diabetes dataset\n",
      "----------------\n",
      "\n",
      "Ten baseline variables, age, sex, body mass index, average blood\n",
      "pressure, and six blood serum measurements were obtained for each of n =\n",
      "442 diabetes patients, as well as the response of interest, a\n",
      "quantitative measure of disease progression one year after baseline.\n",
      "\n",
      "**Data Set Characteristics:**\n",
      "\n",
      "  :Number of Instances: 442\n",
      "\n",
      "  :Number of Attributes: First 10 columns are numeric predictive values\n",
      "\n",
      "  :Target: Column 11 is a quantitative measure of disease progression one year after baseline\n",
      "\n",
      "  :Attribute Information:\n",
      "      - Age\n",
      "      - Sex\n",
      "      - Body mass index\n",
      "      - Average blood pressure\n",
      "      - S1\n",
      "      - S2\n",
      "      - S3\n",
      "      - S4\n",
      "      - S5\n",
      "      - S6\n",
      "\n",
      "Note: Each of these 10 feature variables have been mean centered and scaled by the standard deviation times `n_samples` (i.e. the sum of squares of each column totals 1).\n",
      "\n",
      "Source URL:\n",
      "https://www4.stat.ncsu.edu/~boos/var.select/diabetes.html\n",
      "\n",
      "For more information see:\n",
      "Bradley Efron, Trevor Hastie, Iain Johnstone and Robert Tibshirani (2004) \"Least Angle Regression,\" Annals of Statistics (with discussion), 407-499.\n",
      "(https://web.stanford.edu/~hastie/Papers/LARS/LeastAngle_2002.pdf)\n"
     ]
    }
   ],
   "source": [
    "# Load the diabetes datasets\n",
    "\n",
    "from sklearn.datasets import load_diabetes\n",
    "\n",
    "diabetes_dataset = load_diabetes()\n",
    "print(diabetes_dataset['DESCR'])"
   ]
  },
  {
   "cell_type": "code",
   "execution_count": 3,
   "metadata": {},
   "outputs": [
    {
     "name": "stdout",
     "output_type": "stream",
     "text": [
      "dict_keys(['data', 'target', 'DESCR', 'feature_names', 'data_filename', 'target_filename'])\n"
     ]
    }
   ],
   "source": [
    "# Save the input and target variables\n",
    "\n",
    "print(diabetes_dataset.keys())\n",
    "data = diabetes_dataset[\"data\"]\n",
    "targets = diabetes_dataset['target']"
   ]
  },
  {
   "cell_type": "code",
   "execution_count": 4,
   "metadata": {},
   "outputs": [
    {
     "data": {
      "text/plain": [
       "((442, 10), (442,))"
      ]
     },
     "execution_count": 4,
     "metadata": {},
     "output_type": "execute_result"
    }
   ],
   "source": [
    "data.shape, targets.shape"
   ]
  },
  {
   "cell_type": "code",
   "execution_count": 5,
   "metadata": {},
   "outputs": [
    {
     "data": {
      "text/plain": [
       "array([-1.47194752e-02, -1.00165882e+00, -1.44579915e-01,  6.99512942e-01,\n",
       "       -2.22496178e-01, -7.15965848e-01, -1.83538046e-01, -1.15749134e+00,\n",
       "       -5.47147277e-01,  2.05006151e+00, -6.64021672e-01, -1.07957508e+00,\n",
       "        3.48889755e-01,  4.26806019e-01, -4.43258925e-01,  2.45001404e-01,\n",
       "        1.80071184e-01, -1.05621783e-01, -7.15965848e-01,  2.06043272e-01,\n",
       "       -1.09256112e+00, -1.33929596e+00, -1.09256112e+00,  1.20596866e+00,\n",
       "        4.13819975e-01,  6.47568766e-01, -1.96524090e-01, -8.71798376e-01,\n",
       "       -2.74440354e-01,  1.69943833e+00, -3.00412442e-01, -1.20943552e+00,\n",
       "        2.45262887e+00, -8.45826288e-01, -1.13151925e+00, -6.51035629e-01,\n",
       "        1.46568953e+00,  1.60853602e+00,  1.29687096e+00, -8.06868156e-01,\n",
       "       -6.77007716e-01, -1.26137969e+00, -1.18346343e+00, -7.80896068e-01,\n",
       "        1.38777327e+00, -1.28735178e+00,  4.91736239e-01, -1.31593871e-01,\n",
       "       -1.00165882e+00, -1.31593871e-01,  3.72247006e-02,  9.46247777e-01,\n",
       "       -1.20943552e+00, -6.25063541e-01,  3.87847887e-01, -3.13398486e-01,\n",
       "       -1.30033783e+00, -1.49512849e+00,  2.32015360e-01,  2.32015360e-01,\n",
       "       -1.18346343e+00, -1.05621783e-01, -1.30033783e+00, -3.13398486e-01,\n",
       "       -1.05360299e+00,  1.41113052e-01, -2.77055191e-02, -7.15965848e-01,\n",
       "        1.02154920e-01,  3.35903711e-01, -1.35228200e+00,  1.53061975e+00,\n",
       "        6.47568766e-01, -5.34161233e-01, -8.71798376e-01, -1.43019827e+00,\n",
       "        2.32015360e-01,  6.21596678e-01,  1.29687096e+00, -5.08189145e-01,\n",
       "       -1.18607827e-01, -1.31332387e+00, -1.30033783e+00,  7.51457118e-01,\n",
       "       -1.13151925e+00, -1.44579915e-01, -1.26137969e+00, -2.35482222e-01,\n",
       "       -1.43019827e+00, -5.34161233e-01, -7.02979804e-01,  1.54099096e-01,\n",
       "       -1.35228200e+00, -7.28951892e-01, -8.06868156e-01,  1.28127008e-01,\n",
       "       -2.77055191e-02,  1.64749415e+00, -7.80896068e-01, -8.97770464e-01,\n",
       "       -3.13398486e-01, -6.51035629e-01,  1.94617316e+00,  5.95624590e-01,\n",
       "       -7.41937936e-01, -1.28735178e+00, -2.35482222e-01, -1.05621783e-01,\n",
       "        1.03715008e+00, -9.23742551e-01, -6.25063541e-01, -1.20943552e+00,\n",
       "        1.21895470e+00,  1.88124294e+00,  1.37478723e+00,  9.98191953e-01,\n",
       "        1.59554997e+00,  1.67346624e+00,  3.48889755e-01,  6.21596678e-01,\n",
       "        6.21596678e-01,  2.70973492e-01,  3.61875799e-01, -8.84784420e-01,\n",
       "       -4.04300794e-01,  1.15140964e-01, -6.89993760e-01, -5.60133321e-01,\n",
       "       -4.82217057e-01,  1.50464767e+00,  1.58256393e+00,  7.61828325e-02,\n",
       "       -5.86105409e-01, -8.97770464e-01, -6.38049585e-01,  1.55659184e+00,\n",
       "       -8.71798376e-01,  1.66048019e+00,  2.38769865e+00,  1.67346624e+00,\n",
       "       -4.43258925e-01,  2.14096382e+00,  1.07610822e+00, -1.19644947e+00,\n",
       "        2.83959536e-01,  1.38777327e+00,  3.35903711e-01, -3.13398486e-01,\n",
       "       -7.28951892e-01, -3.39370574e-01,  1.76436855e+00, -8.32840244e-01,\n",
       "        1.81631272e+00, -1.05360299e+00,  5.82638546e-01,  4.39792063e-01,\n",
       "       -1.65096101e+00, -8.84784420e-01, -7.28951892e-01,  5.56666458e-01,\n",
       "       -1.28735178e+00,  8.42359425e-01,  2.57987448e-01, -2.74440354e-01,\n",
       "        8.03401293e-01, -1.20943552e+00, -1.06658903e+00,  8.81317557e-01,\n",
       "        1.50464767e+00, -1.73343121e-03, -1.36526805e+00, -1.01464486e+00,\n",
       "        1.85527085e+00, -6.64021672e-01, -1.47194752e-02, -3.26384530e-01,\n",
       "        1.10208030e+00,  9.46247777e-01, -9.23742551e-01, -1.47194752e-02,\n",
       "       -5.86105409e-01, -1.14450530e+00, -1.83538046e-01,  4.26806019e-01,\n",
       "        1.46568953e+00, -6.64021672e-01, -1.96524090e-01, -1.18607827e-01,\n",
       "       -1.44579915e-01, -9.49714639e-01,  1.81631272e+00,  3.35903711e-01,\n",
       "       -7.93882112e-01, -4.69231013e-01, -8.58812332e-01, -3.91314750e-01,\n",
       "       -1.04061695e+00, -3.00412442e-01, -1.31593871e-01, -8.06868156e-01,\n",
       "        7.61828325e-02, -1.46915640e+00,  5.69652502e-01,  9.07289645e-01,\n",
       "        1.62152206e+00, -6.89993760e-01,  5.69652502e-01,  6.47568766e-01,\n",
       "        3.72247006e-02, -9.75686727e-01,  5.04722283e-01, -1.06658903e+00,\n",
       "       -1.02763090e+00, -1.33929596e+00, -1.13151925e+00,  1.43971745e+00,\n",
       "        1.24492679e+00,  1.86825690e+00,  8.03401293e-01,  4.26806019e-01,\n",
       "       -9.62700683e-01, -7.67910024e-01,  1.29687096e+00, -2.77055191e-02,\n",
       "       -9.75686727e-01,  7.25485030e-01, -9.75686727e-01, -5.73119365e-01,\n",
       "        1.02154920e-01, -1.28735178e+00,  8.81317557e-01,  2.42386567e-02,\n",
       "        1.38777327e+00, -8.06868156e-01,  1.21895470e+00, -3.65342662e-01,\n",
       "       -1.10554717e+00, -1.04061695e+00,  1.36180118e+00,  1.42673140e+00,\n",
       "        1.59554997e+00,  3.22917667e-01, -1.05360299e+00, -1.36526805e+00,\n",
       "        4.52778107e-01, -3.52356618e-01, -9.62700683e-01, -1.31332387e+00,\n",
       "        1.37478723e+00,  8.16387337e-01,  1.95915920e+00,  1.17999657e+00,\n",
       "       -7.93882112e-01, -2.77055191e-02,  2.05006151e+00,  1.12526127e-02,\n",
       "        2.51755909e+00, -1.15749134e+00, -8.19854200e-01, -1.32630991e+00,\n",
       "       -1.46915640e+00, -6.38049585e-01,  2.02408942e+00, -4.69231013e-01,\n",
       "       -9.26357388e-02, -1.01464486e+00, -1.39124013e+00, -4.82217057e-01,\n",
       "        1.45270349e+00, -8.45826288e-01,  6.47568766e-01, -3.26384530e-01,\n",
       "        3.87847887e-01,  1.15402448e+00, -1.11853321e+00, -7.54923980e-01,\n",
       "        1.69943833e+00, -1.14450530e+00, -6.51035629e-01,  6.21596678e-01,\n",
       "        1.46568953e+00, -7.54923980e-01,  1.01117800e+00,  3.74861843e-01,\n",
       "        5.02107446e-02,  1.05013613e+00, -1.19644947e+00,  8.68331513e-01,\n",
       "       -9.36728595e-01, -1.09256112e+00,  2.33575448e+00,  1.24492679e+00,\n",
       "       -8.84784420e-01,  6.21596678e-01, -1.26137969e+00, -8.71798376e-01,\n",
       "       -8.19854200e-01, -1.57304475e+00, -3.00412442e-01, -8.97770464e-01,\n",
       "        1.59554997e+00, -1.13151925e+00,  5.95624590e-01,  1.08909426e+00,\n",
       "        1.30985701e+00, -3.65342662e-01, -1.40422618e+00,  2.57987448e-01,\n",
       "       -4.95203101e-01, -1.31593871e-01, -5.60133321e-01,  3.61875799e-01,\n",
       "       -1.05621783e-01,  1.41113052e-01, -6.66636509e-02, -7.15965848e-01,\n",
       "        8.81317557e-01,  4.91736239e-01, -5.60133321e-01,  5.04722283e-01,\n",
       "       -3.91314750e-01,  1.01117800e+00,  1.16701052e+00,  1.24492679e+00,\n",
       "        1.25791283e+00,  5.17708327e-01, -2.74440354e-01,  1.10208030e+00,\n",
       "       -9.62700683e-01, -2.22496178e-01,  1.19298261e+00,  6.08610634e-01,\n",
       "        1.53061975e+00,  1.54099096e-01, -1.04061695e+00, -7.28951892e-01,\n",
       "        1.99811734e+00, -7.93882112e-01,  8.03401293e-01, -7.41937936e-01,\n",
       "        8.29373381e-01,  1.43971745e+00,  3.35903711e-01, -5.08189145e-01,\n",
       "        6.21596678e-01, -1.70552003e-01, -1.70552003e-01, -8.32840244e-01,\n",
       "       -5.36776070e-02, -8.32840244e-01,  1.17999657e+00, -1.05360299e+00,\n",
       "       -9.75686727e-01, -5.60133321e-01,  1.55659184e+00, -1.19644947e+00,\n",
       "       -1.27436574e+00,  8.94303601e-01, -8.06868156e-01,  2.06304756e+00,\n",
       "        1.67346624e+00,  3.87847887e-01,  2.19290800e+00, -1.22242156e+00,\n",
       "        1.42673140e+00,  6.99512942e-01,  1.05013613e+00,  1.16701052e+00,\n",
       "       -3.78328706e-01,  1.93057228e-01, -1.15749134e+00,  5.82638546e-01,\n",
       "       -1.05360299e+00,  2.06043272e-01, -1.57565959e-01,  8.42359425e-01,\n",
       "       -4.04300794e-01,  1.07610822e+00,  1.20596866e+00, -1.45617035e+00,\n",
       "       -1.30033783e+00, -6.25063541e-01, -2.61454310e-01, -8.32840244e-01,\n",
       "       -1.07957508e+00,  8.68331513e-01, -1.04061695e+00,  6.34582722e-01,\n",
       "       -5.47147277e-01, -1.31332387e+00,  1.62152206e+00, -1.15749134e+00,\n",
       "       -4.43258925e-01, -1.07957508e+00,  1.56957789e+00,  1.37478723e+00,\n",
       "       -1.41721222e+00,  5.95624590e-01,  1.16701052e+00,  1.03715008e+00,\n",
       "        2.96945580e-01, -7.67910024e-01,  2.06043272e-01,  1.59554997e+00,\n",
       "        1.82929877e+00,  1.67346624e+00, -1.04061695e+00, -1.57565959e-01,\n",
       "        4.78750195e-01,  3.74861843e-01,  7.38471074e-01, -2.09510134e-01,\n",
       "        1.41374536e+00, -5.08189145e-01, -2.74440354e-01,  2.83959536e-01,\n",
       "        1.36180118e+00, -1.26137969e+00, -8.84784420e-01, -1.43019827e+00,\n",
       "       -7.96496949e-02,  7.77429206e-01,  1.05013613e+00, -7.93882112e-01,\n",
       "       -5.34161233e-01, -1.73343121e-03, -4.17286837e-01, -1.10554717e+00,\n",
       "        2.05006151e+00, -7.54923980e-01,  4.00833931e-01, -1.11853321e+00,\n",
       "        2.70973492e-01, -1.04061695e+00, -1.33929596e+00, -1.14450530e+00,\n",
       "       -1.35228200e+00,  3.35903711e-01, -6.25063541e-01, -2.61454310e-01,\n",
       "        8.81317557e-01, -1.23540761e+00])"
      ]
     },
     "execution_count": 5,
     "metadata": {},
     "output_type": "execute_result"
    }
   ],
   "source": [
    "# Normalise the target data (this will make clearer training curves)\n",
    "targets = (targets - targets.mean(axis=0)) / targets.std()\n",
    "targets"
   ]
  },
  {
   "cell_type": "code",
   "execution_count": 6,
   "metadata": {},
   "outputs": [
    {
     "name": "stdout",
     "output_type": "stream",
     "text": [
      "(397, 10)\n",
      "(45, 10)\n",
      "(397,)\n",
      "(45,)\n"
     ]
    }
   ],
   "source": [
    "# Split the data into train and test sets\n",
    "\n",
    "from sklearn.model_selection import train_test_split\n",
    "\n",
    "train_data, test_data, train_targets, test_targets = train_test_split(data, targets, test_size=0.1)\n",
    "\n",
    "print(train_data.shape)\n",
    "print(test_data.shape)\n",
    "print(train_targets.shape)\n",
    "print(test_targets.shape)"
   ]
  },
  {
   "cell_type": "markdown",
   "metadata": {},
   "source": [
    "#### Train a feedforward neural network model"
   ]
  },
  {
   "cell_type": "code",
   "execution_count": 7,
   "metadata": {},
   "outputs": [],
   "source": [
    "# Build a model\n",
    "\n",
    "from tensorflow.keras.models import Sequential\n",
    "from tensorflow.keras.layers import Dense\n",
    "\n",
    "def get_model():\n",
    "    model = Sequential([\n",
    "        Dense(128, activation='relu', input_shape=(train_data.shape[1],)),\n",
    "        Dense(128, activation='relu'),\n",
    "        Dense(128, activation='relu'),\n",
    "        Dense(128, activation='relu'),\n",
    "        Dense(128, activation='relu'),\n",
    "        Dense(128, activation='relu'),\n",
    "        Dense(1)\n",
    "    ])\n",
    "    \n",
    "    return model\n",
    "model = get_model()"
   ]
  },
  {
   "cell_type": "code",
   "execution_count": 8,
   "metadata": {},
   "outputs": [
    {
     "name": "stdout",
     "output_type": "stream",
     "text": [
      "Model: \"sequential\"\n",
      "_________________________________________________________________\n",
      "Layer (type)                 Output Shape              Param #   \n",
      "=================================================================\n",
      "dense (Dense)                (None, 128)               1408      \n",
      "_________________________________________________________________\n",
      "dense_1 (Dense)              (None, 128)               16512     \n",
      "_________________________________________________________________\n",
      "dense_2 (Dense)              (None, 128)               16512     \n",
      "_________________________________________________________________\n",
      "dense_3 (Dense)              (None, 128)               16512     \n",
      "_________________________________________________________________\n",
      "dense_4 (Dense)              (None, 128)               16512     \n",
      "_________________________________________________________________\n",
      "dense_5 (Dense)              (None, 128)               16512     \n",
      "_________________________________________________________________\n",
      "dense_6 (Dense)              (None, 1)                 129       \n",
      "=================================================================\n",
      "Total params: 84,097\n",
      "Trainable params: 84,097\n",
      "Non-trainable params: 0\n",
      "_________________________________________________________________\n"
     ]
    }
   ],
   "source": [
    "# Print the model summary\n",
    "model.summary()"
   ]
  },
  {
   "cell_type": "code",
   "execution_count": 9,
   "metadata": {},
   "outputs": [],
   "source": [
    "# Compile the model\n",
    "\n",
    "model.compile(optimizer='adam', loss='mse', metrics=['mae'])"
   ]
  },
  {
   "cell_type": "code",
   "execution_count": 10,
   "metadata": {},
   "outputs": [
    {
     "name": "stdout",
     "output_type": "stream",
     "text": [
      "Train on 337 samples, validate on 60 samples\n",
      "Epoch 1/100\n",
      "337/337 - 1s - loss: 0.9818 - mae: 0.8475 - val_loss: 1.0098 - val_mae: 0.8708\n",
      "Epoch 2/100\n",
      "337/337 - 0s - loss: 0.8846 - mae: 0.8059 - val_loss: 0.8342 - val_mae: 0.7913\n",
      "Epoch 3/100\n",
      "337/337 - 0s - loss: 0.6766 - mae: 0.6985 - val_loss: 0.5465 - val_mae: 0.5992\n",
      "Epoch 4/100\n",
      "337/337 - 0s - loss: 0.5593 - mae: 0.5943 - val_loss: 0.5158 - val_mae: 0.5490\n",
      "Epoch 5/100\n",
      "337/337 - 0s - loss: 0.4840 - mae: 0.5539 - val_loss: 0.4875 - val_mae: 0.5697\n",
      "Epoch 6/100\n",
      "337/337 - 0s - loss: 0.5096 - mae: 0.5867 - val_loss: 0.4315 - val_mae: 0.5657\n",
      "Epoch 7/100\n",
      "337/337 - 0s - loss: 0.4490 - mae: 0.5477 - val_loss: 0.4790 - val_mae: 0.5622\n",
      "Epoch 8/100\n",
      "337/337 - 0s - loss: 0.4572 - mae: 0.5331 - val_loss: 0.4178 - val_mae: 0.5192\n",
      "Epoch 9/100\n",
      "337/337 - 0s - loss: 0.4590 - mae: 0.5383 - val_loss: 0.5433 - val_mae: 0.5894\n",
      "Epoch 10/100\n",
      "337/337 - 0s - loss: 0.4571 - mae: 0.5477 - val_loss: 0.4481 - val_mae: 0.5531\n",
      "Epoch 11/100\n",
      "337/337 - 0s - loss: 0.4367 - mae: 0.5281 - val_loss: 0.4246 - val_mae: 0.5275\n",
      "Epoch 12/100\n",
      "337/337 - 0s - loss: 0.4350 - mae: 0.5239 - val_loss: 0.4516 - val_mae: 0.5370\n",
      "Epoch 13/100\n",
      "337/337 - 0s - loss: 0.4030 - mae: 0.5060 - val_loss: 0.4173 - val_mae: 0.5324\n",
      "Epoch 14/100\n",
      "337/337 - 0s - loss: 0.4058 - mae: 0.5115 - val_loss: 0.4314 - val_mae: 0.5347\n",
      "Epoch 15/100\n",
      "337/337 - 0s - loss: 0.3894 - mae: 0.4919 - val_loss: 0.4113 - val_mae: 0.5176\n",
      "Epoch 16/100\n",
      "337/337 - 0s - loss: 0.3984 - mae: 0.4899 - val_loss: 0.4960 - val_mae: 0.5570\n",
      "Epoch 17/100\n",
      "337/337 - 0s - loss: 0.3855 - mae: 0.4845 - val_loss: 0.4139 - val_mae: 0.5125\n",
      "Epoch 18/100\n",
      "337/337 - 0s - loss: 0.3869 - mae: 0.4952 - val_loss: 0.5013 - val_mae: 0.5519\n",
      "Epoch 19/100\n",
      "337/337 - 0s - loss: 0.3859 - mae: 0.4909 - val_loss: 0.4130 - val_mae: 0.5148\n",
      "Epoch 20/100\n",
      "337/337 - 0s - loss: 0.3849 - mae: 0.4899 - val_loss: 0.3993 - val_mae: 0.5104\n",
      "Epoch 21/100\n",
      "337/337 - 0s - loss: 0.3988 - mae: 0.5041 - val_loss: 0.6140 - val_mae: 0.6019\n",
      "Epoch 22/100\n",
      "337/337 - 0s - loss: 0.4328 - mae: 0.5059 - val_loss: 0.4170 - val_mae: 0.5201\n",
      "Epoch 23/100\n",
      "337/337 - 0s - loss: 0.3906 - mae: 0.4976 - val_loss: 0.4982 - val_mae: 0.5562\n",
      "Epoch 24/100\n",
      "337/337 - 0s - loss: 0.3685 - mae: 0.4837 - val_loss: 0.4128 - val_mae: 0.5091\n",
      "Epoch 25/100\n",
      "337/337 - 0s - loss: 0.3529 - mae: 0.4613 - val_loss: 0.4189 - val_mae: 0.5055\n",
      "Epoch 26/100\n",
      "337/337 - 0s - loss: 0.3520 - mae: 0.4658 - val_loss: 0.4773 - val_mae: 0.5299\n",
      "Epoch 27/100\n",
      "337/337 - 0s - loss: 0.3378 - mae: 0.4626 - val_loss: 0.4547 - val_mae: 0.5173\n",
      "Epoch 28/100\n",
      "337/337 - 0s - loss: 0.3279 - mae: 0.4469 - val_loss: 0.4582 - val_mae: 0.5225\n",
      "Epoch 29/100\n",
      "337/337 - 0s - loss: 0.3168 - mae: 0.4372 - val_loss: 0.4215 - val_mae: 0.4985\n",
      "Epoch 30/100\n",
      "337/337 - 0s - loss: 0.3218 - mae: 0.4392 - val_loss: 0.4573 - val_mae: 0.5200\n",
      "Epoch 31/100\n",
      "337/337 - 0s - loss: 0.2985 - mae: 0.4266 - val_loss: 0.4282 - val_mae: 0.5007\n",
      "Epoch 32/100\n",
      "337/337 - 0s - loss: 0.3100 - mae: 0.4371 - val_loss: 0.4716 - val_mae: 0.5284\n",
      "Epoch 33/100\n",
      "337/337 - 0s - loss: 0.3059 - mae: 0.4288 - val_loss: 0.5532 - val_mae: 0.5696\n",
      "Epoch 34/100\n",
      "337/337 - 0s - loss: 0.3279 - mae: 0.4426 - val_loss: 0.4463 - val_mae: 0.5090\n",
      "Epoch 35/100\n",
      "337/337 - 0s - loss: 0.2783 - mae: 0.4162 - val_loss: 0.4839 - val_mae: 0.5293\n",
      "Epoch 36/100\n",
      "337/337 - 0s - loss: 0.2718 - mae: 0.4038 - val_loss: 0.5381 - val_mae: 0.5624\n",
      "Epoch 37/100\n",
      "337/337 - 0s - loss: 0.2850 - mae: 0.4113 - val_loss: 0.4731 - val_mae: 0.5213\n",
      "Epoch 38/100\n",
      "337/337 - 0s - loss: 0.2679 - mae: 0.4008 - val_loss: 0.5263 - val_mae: 0.5714\n",
      "Epoch 39/100\n",
      "337/337 - 0s - loss: 0.3299 - mae: 0.4447 - val_loss: 0.5215 - val_mae: 0.5507\n",
      "Epoch 40/100\n",
      "337/337 - 0s - loss: 0.3617 - mae: 0.4675 - val_loss: 0.5886 - val_mae: 0.5825\n",
      "Epoch 41/100\n",
      "337/337 - 0s - loss: 0.3109 - mae: 0.4386 - val_loss: 0.4543 - val_mae: 0.5343\n",
      "Epoch 42/100\n",
      "337/337 - 0s - loss: 0.2742 - mae: 0.4182 - val_loss: 0.5272 - val_mae: 0.5629\n",
      "Epoch 43/100\n",
      "337/337 - 0s - loss: 0.2730 - mae: 0.4038 - val_loss: 0.4613 - val_mae: 0.5187\n",
      "Epoch 44/100\n",
      "337/337 - 0s - loss: 0.2490 - mae: 0.3815 - val_loss: 0.5008 - val_mae: 0.5377\n",
      "Epoch 45/100\n",
      "337/337 - 0s - loss: 0.2356 - mae: 0.3782 - val_loss: 0.4815 - val_mae: 0.5259\n",
      "Epoch 46/100\n",
      "337/337 - 0s - loss: 0.2204 - mae: 0.3623 - val_loss: 0.5094 - val_mae: 0.5449\n",
      "Epoch 47/100\n",
      "337/337 - 0s - loss: 0.2197 - mae: 0.3644 - val_loss: 0.5356 - val_mae: 0.5520\n",
      "Epoch 48/100\n",
      "337/337 - 0s - loss: 0.2048 - mae: 0.3501 - val_loss: 0.5703 - val_mae: 0.5665\n",
      "Epoch 49/100\n",
      "337/337 - 0s - loss: 0.2007 - mae: 0.3478 - val_loss: 0.5871 - val_mae: 0.5705\n",
      "Epoch 50/100\n",
      "337/337 - 0s - loss: 0.2012 - mae: 0.3460 - val_loss: 0.5828 - val_mae: 0.5728\n",
      "Epoch 51/100\n",
      "337/337 - 0s - loss: 0.2104 - mae: 0.3539 - val_loss: 0.6338 - val_mae: 0.5983\n",
      "Epoch 52/100\n",
      "337/337 - 0s - loss: 0.2341 - mae: 0.3739 - val_loss: 0.5550 - val_mae: 0.5586\n",
      "Epoch 53/100\n",
      "337/337 - 0s - loss: 0.1940 - mae: 0.3469 - val_loss: 0.5488 - val_mae: 0.5556\n",
      "Epoch 54/100\n",
      "337/337 - 0s - loss: 0.1754 - mae: 0.3263 - val_loss: 0.5828 - val_mae: 0.5896\n",
      "Epoch 55/100\n",
      "337/337 - 0s - loss: 0.1980 - mae: 0.3423 - val_loss: 0.6257 - val_mae: 0.6179\n",
      "Epoch 56/100\n",
      "337/337 - 0s - loss: 0.2471 - mae: 0.3892 - val_loss: 0.5473 - val_mae: 0.5631\n",
      "Epoch 57/100\n",
      "337/337 - 0s - loss: 0.1999 - mae: 0.3456 - val_loss: 0.5438 - val_mae: 0.5576\n",
      "Epoch 58/100\n",
      "337/337 - 0s - loss: 0.1769 - mae: 0.3316 - val_loss: 0.5629 - val_mae: 0.5667\n",
      "Epoch 59/100\n",
      "337/337 - 0s - loss: 0.1598 - mae: 0.3141 - val_loss: 0.6329 - val_mae: 0.5853\n",
      "Epoch 60/100\n",
      "337/337 - 0s - loss: 0.1746 - mae: 0.3309 - val_loss: 0.5926 - val_mae: 0.5685\n",
      "Epoch 61/100\n",
      "337/337 - 0s - loss: 0.1565 - mae: 0.3107 - val_loss: 0.5981 - val_mae: 0.5776\n",
      "Epoch 62/100\n",
      "337/337 - 0s - loss: 0.1627 - mae: 0.3120 - val_loss: 0.6078 - val_mae: 0.5838\n",
      "Epoch 63/100\n",
      "337/337 - 0s - loss: 0.1667 - mae: 0.3224 - val_loss: 0.5928 - val_mae: 0.5743\n",
      "Epoch 64/100\n",
      "337/337 - 0s - loss: 0.1457 - mae: 0.3014 - val_loss: 0.5921 - val_mae: 0.5790\n",
      "Epoch 65/100\n",
      "337/337 - 0s - loss: 0.1476 - mae: 0.2977 - val_loss: 0.5818 - val_mae: 0.5710\n",
      "Epoch 66/100\n",
      "337/337 - 0s - loss: 0.1304 - mae: 0.2789 - val_loss: 0.5713 - val_mae: 0.5703\n",
      "Epoch 67/100\n",
      "337/337 - 0s - loss: 0.1352 - mae: 0.2885 - val_loss: 0.6133 - val_mae: 0.5848\n",
      "Epoch 68/100\n",
      "337/337 - 0s - loss: 0.1284 - mae: 0.2743 - val_loss: 0.6110 - val_mae: 0.5729\n",
      "Epoch 69/100\n",
      "337/337 - 0s - loss: 0.1307 - mae: 0.2739 - val_loss: 0.6270 - val_mae: 0.5872\n",
      "Epoch 70/100\n",
      "337/337 - 0s - loss: 0.1251 - mae: 0.2744 - val_loss: 0.6006 - val_mae: 0.5803\n",
      "Epoch 71/100\n",
      "337/337 - 0s - loss: 0.1449 - mae: 0.3007 - val_loss: 0.5734 - val_mae: 0.5692\n",
      "Epoch 72/100\n",
      "337/337 - 0s - loss: 0.1247 - mae: 0.2766 - val_loss: 0.6115 - val_mae: 0.5724\n",
      "Epoch 73/100\n",
      "337/337 - 0s - loss: 0.1128 - mae: 0.2577 - val_loss: 0.6264 - val_mae: 0.5871\n",
      "Epoch 74/100\n",
      "337/337 - 0s - loss: 0.1052 - mae: 0.2468 - val_loss: 0.6369 - val_mae: 0.5859\n",
      "Epoch 75/100\n",
      "337/337 - 0s - loss: 0.1043 - mae: 0.2451 - val_loss: 0.6190 - val_mae: 0.5856\n",
      "Epoch 76/100\n",
      "337/337 - 0s - loss: 0.1280 - mae: 0.2825 - val_loss: 0.7068 - val_mae: 0.6382\n",
      "Epoch 77/100\n",
      "337/337 - 0s - loss: 0.1658 - mae: 0.3238 - val_loss: 0.5846 - val_mae: 0.5668\n",
      "Epoch 78/100\n",
      "337/337 - 0s - loss: 0.1490 - mae: 0.3034 - val_loss: 0.6093 - val_mae: 0.5882\n",
      "Epoch 79/100\n",
      "337/337 - 0s - loss: 0.1456 - mae: 0.2977 - val_loss: 0.6651 - val_mae: 0.6144\n",
      "Epoch 80/100\n",
      "337/337 - 0s - loss: 0.1431 - mae: 0.2904 - val_loss: 0.6034 - val_mae: 0.5738\n",
      "Epoch 81/100\n",
      "337/337 - 0s - loss: 0.1107 - mae: 0.2574 - val_loss: 0.6062 - val_mae: 0.6031\n",
      "Epoch 82/100\n",
      "337/337 - 0s - loss: 0.1183 - mae: 0.2560 - val_loss: 0.6019 - val_mae: 0.5943\n",
      "Epoch 83/100\n",
      "337/337 - 0s - loss: 0.1408 - mae: 0.2981 - val_loss: 0.5975 - val_mae: 0.5619\n",
      "Epoch 84/100\n",
      "337/337 - 0s - loss: 0.1529 - mae: 0.3063 - val_loss: 0.7121 - val_mae: 0.6328\n",
      "Epoch 85/100\n",
      "337/337 - 0s - loss: 0.1860 - mae: 0.3408 - val_loss: 0.6106 - val_mae: 0.5879\n",
      "Epoch 86/100\n",
      "337/337 - 0s - loss: 0.1417 - mae: 0.2992 - val_loss: 0.5961 - val_mae: 0.5739\n",
      "Epoch 87/100\n",
      "337/337 - 0s - loss: 0.1329 - mae: 0.2786 - val_loss: 0.5780 - val_mae: 0.5524\n",
      "Epoch 88/100\n",
      "337/337 - 0s - loss: 0.1074 - mae: 0.2540 - val_loss: 0.6277 - val_mae: 0.5646\n",
      "Epoch 89/100\n",
      "337/337 - 0s - loss: 0.0927 - mae: 0.2347 - val_loss: 0.7238 - val_mae: 0.6173\n"
     ]
    },
    {
     "name": "stdout",
     "output_type": "stream",
     "text": [
      "Epoch 90/100\n",
      "337/337 - 0s - loss: 0.1286 - mae: 0.2815 - val_loss: 0.6053 - val_mae: 0.5625\n",
      "Epoch 91/100\n",
      "337/337 - 0s - loss: 0.1117 - mae: 0.2503 - val_loss: 0.5781 - val_mae: 0.5859\n",
      "Epoch 92/100\n",
      "337/337 - 0s - loss: 0.1084 - mae: 0.2571 - val_loss: 0.5920 - val_mae: 0.5558\n",
      "Epoch 93/100\n",
      "337/337 - 0s - loss: 0.0903 - mae: 0.2328 - val_loss: 0.6664 - val_mae: 0.5945\n",
      "Epoch 94/100\n",
      "337/337 - 0s - loss: 0.0871 - mae: 0.2268 - val_loss: 0.6331 - val_mae: 0.5736\n",
      "Epoch 95/100\n",
      "337/337 - 0s - loss: 0.0804 - mae: 0.2172 - val_loss: 0.5911 - val_mae: 0.5584\n",
      "Epoch 96/100\n",
      "337/337 - 0s - loss: 0.0662 - mae: 0.1954 - val_loss: 0.6212 - val_mae: 0.5795\n",
      "Epoch 97/100\n",
      "337/337 - 0s - loss: 0.0660 - mae: 0.1914 - val_loss: 0.6409 - val_mae: 0.5769\n",
      "Epoch 98/100\n",
      "337/337 - 0s - loss: 0.0594 - mae: 0.1788 - val_loss: 0.5986 - val_mae: 0.5642\n",
      "Epoch 99/100\n",
      "337/337 - 0s - loss: 0.0629 - mae: 0.1924 - val_loss: 0.6315 - val_mae: 0.5790\n",
      "Epoch 100/100\n",
      "337/337 - 0s - loss: 0.0640 - mae: 0.1897 - val_loss: 0.6101 - val_mae: 0.5714\n"
     ]
    }
   ],
   "source": [
    "# Train the model, with some of the data reserved for validation\n",
    "\n",
    "history = model.fit(train_data, train_targets, epochs=100, validation_split=0.15, batch_size=64, verbose=2)"
   ]
  },
  {
   "cell_type": "code",
   "execution_count": 11,
   "metadata": {},
   "outputs": [
    {
     "name": "stdout",
     "output_type": "stream",
     "text": [
      "45/1 - 0s - loss: 1.0467 - mae: 0.8308\n"
     ]
    },
    {
     "data": {
      "text/plain": [
       "[1.0496484253141616, 0.83079344]"
      ]
     },
     "execution_count": 11,
     "metadata": {},
     "output_type": "execute_result"
    }
   ],
   "source": [
    "# Evaluate the model on test set\n",
    "\n",
    "model.evaluate(test_data, test_targets, verbose=2)"
   ]
  },
  {
   "cell_type": "markdown",
   "metadata": {},
   "source": [
    "#### Plot the learning curves"
   ]
  },
  {
   "cell_type": "code",
   "execution_count": 15,
   "metadata": {},
   "outputs": [],
   "source": [
    "import matplotlib.pyplot as plt\n",
    "%matplotlib inline"
   ]
  },
  {
   "cell_type": "code",
   "execution_count": 16,
   "metadata": {
    "scrolled": true
   },
   "outputs": [
    {
     "data": {
      "image/png": "[encoded data removed]",
      "text/plain": [
       "<Figure size 432x288 with 1 Axes>"
      ]
     },
     "metadata": {
      "needs_background": "light"
     },
     "output_type": "display_data"
    }
   ],
   "source": [
    "# Plot the training and validation loss\n",
    "\n",
    "plt.plot(history.history['loss'])\n",
    "plt.plot(history.history['val_loss'])\n",
    "plt.title('Loss vs epochs')\n",
    "plt.xlabel('Epoch')\n",
    "plt.ylabel('Loss')\n",
    "plt.legend(['Training', 'Validation'], loc='upper right')\n",
    "plt.show()"
   ]
  },
  {
   "cell_type": "markdown",
   "metadata": {},
   "source": [
    "***\n",
    "<a id=\"coding_tutorial_2\"></a>\n",
    "## Model regularisation"
   ]
  },
  {
   "cell_type": "markdown",
   "metadata": {},
   "source": [
    "#### Adding regularisation with weight decay and dropout"
   ]
  },
  {
   "cell_type": "code",
   "execution_count": 17,
   "metadata": {},
   "outputs": [],
   "source": [
    "from tensorflow.keras.layers import Dropout\n",
    "from tensorflow.keras import regularizers"
   ]
  },
  {
   "cell_type": "code",
   "execution_count": 18,
   "metadata": {},
   "outputs": [],
   "source": [
    "def get_regularized_model(wd, rate):\n",
    "    model = Sequential([\n",
    "            Dense(128, kernel_regularizer=regularizers.l2(wd), activation='relu', input_shape=(train_data.shape[1],)),\n",
    "            Dropout(rate),\n",
    "            Dense(128, kernel_regularizer=regularizers.l2(wd), activation='relu'),\n",
    "            Dropout(rate),\n",
    "            Dense(128, kernel_regularizer=regularizers.l2(wd), activation='relu'),\n",
    "            Dropout(rate),\n",
    "            Dense(128, kernel_regularizer=regularizers.l2(wd), activation='relu'),\n",
    "            Dropout(rate),\n",
    "            Dense(128, kernel_regularizer=regularizers.l2(wd), activation='relu'),\n",
    "            Dropout(rate),\n",
    "            Dense(128, kernel_regularizer=regularizers.l2(wd), activation='relu'),\n",
    "            Dropout(rate),\n",
    "            Dense(1)\n",
    "        ])\n",
    "    \n",
    "    return model"
   ]
  },
  {
   "cell_type": "code",
   "execution_count": 19,
   "metadata": {},
   "outputs": [],
   "source": [
    "# Re-build the model with weight decay and dropout layers\n",
    "model = get_regularized_model(1e-5, 0.3)"
   ]
  },
  {
   "cell_type": "code",
   "execution_count": 20,
   "metadata": {},
   "outputs": [],
   "source": [
    "model.compile(optimizer='adam', loss='mse', metrics=['mae'])"
   ]
  },
  {
   "cell_type": "code",
   "execution_count": 21,
   "metadata": {},
   "outputs": [
    {
     "name": "stdout",
     "output_type": "stream",
     "text": [
      "Train on 337 samples, validate on 60 samples\n",
      "Epoch 1/100\n",
      "337/337 - 2s - loss: 0.9987 - mae: 0.8507 - val_loss: 1.0700 - val_mae: 0.8879\n",
      "Epoch 2/100\n",
      "337/337 - 0s - loss: 0.9864 - mae: 0.8439 - val_loss: 1.0377 - val_mae: 0.8745\n",
      "Epoch 3/100\n",
      "337/337 - 0s - loss: 0.9475 - mae: 0.8264 - val_loss: 0.9446 - val_mae: 0.8428\n",
      "Epoch 4/100\n",
      "337/337 - 0s - loss: 0.8400 - mae: 0.7832 - val_loss: 0.7509 - val_mae: 0.7420\n",
      "Epoch 5/100\n",
      "337/337 - 0s - loss: 0.6977 - mae: 0.6938 - val_loss: 0.6083 - val_mae: 0.6264\n",
      "Epoch 6/100\n",
      "337/337 - 0s - loss: 0.6295 - mae: 0.6305 - val_loss: 0.5560 - val_mae: 0.5753\n",
      "Epoch 7/100\n",
      "337/337 - 0s - loss: 0.6084 - mae: 0.6210 - val_loss: 0.5451 - val_mae: 0.5795\n",
      "Epoch 8/100\n",
      "337/337 - 0s - loss: 0.5358 - mae: 0.5954 - val_loss: 0.4898 - val_mae: 0.5741\n",
      "Epoch 9/100\n",
      "337/337 - 0s - loss: 0.5754 - mae: 0.6275 - val_loss: 0.4767 - val_mae: 0.5568\n",
      "Epoch 10/100\n",
      "337/337 - 0s - loss: 0.5629 - mae: 0.6010 - val_loss: 0.5070 - val_mae: 0.5730\n",
      "Epoch 11/100\n",
      "337/337 - 0s - loss: 0.5486 - mae: 0.6070 - val_loss: 0.4825 - val_mae: 0.5668\n",
      "Epoch 12/100\n",
      "337/337 - 0s - loss: 0.5349 - mae: 0.6052 - val_loss: 0.4909 - val_mae: 0.5657\n",
      "Epoch 13/100\n",
      "337/337 - 0s - loss: 0.5395 - mae: 0.5988 - val_loss: 0.4882 - val_mae: 0.5681\n",
      "Epoch 14/100\n",
      "337/337 - 0s - loss: 0.4867 - mae: 0.5598 - val_loss: 0.4880 - val_mae: 0.5673\n",
      "Epoch 15/100\n",
      "337/337 - 0s - loss: 0.5297 - mae: 0.5883 - val_loss: 0.4759 - val_mae: 0.5582\n",
      "Epoch 16/100\n",
      "337/337 - 0s - loss: 0.4929 - mae: 0.5535 - val_loss: 0.5737 - val_mae: 0.6007\n",
      "Epoch 17/100\n",
      "337/337 - 0s - loss: 0.4920 - mae: 0.5647 - val_loss: 0.4673 - val_mae: 0.5757\n",
      "Epoch 18/100\n",
      "337/337 - 0s - loss: 0.5068 - mae: 0.5801 - val_loss: 0.4744 - val_mae: 0.5603\n",
      "Epoch 19/100\n",
      "337/337 - 0s - loss: 0.4834 - mae: 0.5443 - val_loss: 0.4709 - val_mae: 0.5567\n",
      "Epoch 20/100\n",
      "337/337 - 0s - loss: 0.4912 - mae: 0.5711 - val_loss: 0.4441 - val_mae: 0.5424\n",
      "Epoch 21/100\n",
      "337/337 - 0s - loss: 0.4697 - mae: 0.5491 - val_loss: 0.5650 - val_mae: 0.5938\n",
      "Epoch 22/100\n",
      "337/337 - 0s - loss: 0.4905 - mae: 0.5526 - val_loss: 0.4366 - val_mae: 0.5324\n",
      "Epoch 23/100\n",
      "337/337 - 0s - loss: 0.4730 - mae: 0.5414 - val_loss: 0.4943 - val_mae: 0.5650\n",
      "Epoch 24/100\n",
      "337/337 - 0s - loss: 0.4757 - mae: 0.5584 - val_loss: 0.4455 - val_mae: 0.5475\n",
      "Epoch 25/100\n",
      "337/337 - 0s - loss: 0.4775 - mae: 0.5597 - val_loss: 0.4609 - val_mae: 0.5521\n",
      "Epoch 26/100\n",
      "337/337 - 0s - loss: 0.4541 - mae: 0.5353 - val_loss: 0.4873 - val_mae: 0.5622\n",
      "Epoch 27/100\n",
      "337/337 - 0s - loss: 0.4808 - mae: 0.5495 - val_loss: 0.4820 - val_mae: 0.5655\n",
      "Epoch 28/100\n",
      "337/337 - 0s - loss: 0.4652 - mae: 0.5492 - val_loss: 0.4687 - val_mae: 0.5634\n",
      "Epoch 29/100\n",
      "337/337 - 0s - loss: 0.4743 - mae: 0.5531 - val_loss: 0.5430 - val_mae: 0.5892\n",
      "Epoch 30/100\n",
      "337/337 - 0s - loss: 0.4500 - mae: 0.5296 - val_loss: 0.4604 - val_mae: 0.5463\n",
      "Epoch 31/100\n",
      "337/337 - 0s - loss: 0.4694 - mae: 0.5335 - val_loss: 0.4809 - val_mae: 0.5574\n",
      "Epoch 32/100\n",
      "337/337 - 0s - loss: 0.4320 - mae: 0.5080 - val_loss: 0.4750 - val_mae: 0.5575\n",
      "Epoch 33/100\n",
      "337/337 - 0s - loss: 0.4578 - mae: 0.5340 - val_loss: 0.4523 - val_mae: 0.5485\n",
      "Epoch 34/100\n",
      "337/337 - 0s - loss: 0.4615 - mae: 0.5506 - val_loss: 0.5007 - val_mae: 0.5662\n",
      "Epoch 35/100\n",
      "337/337 - 0s - loss: 0.4467 - mae: 0.5292 - val_loss: 0.4847 - val_mae: 0.5579\n",
      "Epoch 36/100\n",
      "337/337 - 0s - loss: 0.4596 - mae: 0.5432 - val_loss: 0.5150 - val_mae: 0.5752\n",
      "Epoch 37/100\n",
      "337/337 - 0s - loss: 0.4577 - mae: 0.5328 - val_loss: 0.4559 - val_mae: 0.5407\n",
      "Epoch 38/100\n",
      "337/337 - 0s - loss: 0.4404 - mae: 0.5204 - val_loss: 0.4969 - val_mae: 0.5586\n",
      "Epoch 39/100\n",
      "337/337 - 0s - loss: 0.4309 - mae: 0.5200 - val_loss: 0.4744 - val_mae: 0.5506\n",
      "Epoch 40/100\n",
      "337/337 - 0s - loss: 0.4642 - mae: 0.5498 - val_loss: 0.4780 - val_mae: 0.5536\n",
      "Epoch 41/100\n",
      "337/337 - 0s - loss: 0.4312 - mae: 0.5311 - val_loss: 0.4549 - val_mae: 0.5373\n",
      "Epoch 42/100\n",
      "337/337 - 0s - loss: 0.4528 - mae: 0.5247 - val_loss: 0.4448 - val_mae: 0.5321\n",
      "Epoch 43/100\n",
      "337/337 - 0s - loss: 0.4333 - mae: 0.5156 - val_loss: 0.4662 - val_mae: 0.5512\n",
      "Epoch 44/100\n",
      "337/337 - 0s - loss: 0.4411 - mae: 0.5333 - val_loss: 0.4850 - val_mae: 0.5598\n",
      "Epoch 45/100\n",
      "337/337 - 0s - loss: 0.4167 - mae: 0.5114 - val_loss: 0.4391 - val_mae: 0.5264\n",
      "Epoch 46/100\n",
      "337/337 - 0s - loss: 0.4262 - mae: 0.5258 - val_loss: 0.5163 - val_mae: 0.5679\n",
      "Epoch 47/100\n",
      "337/337 - 0s - loss: 0.4314 - mae: 0.5147 - val_loss: 0.4734 - val_mae: 0.5396\n",
      "Epoch 48/100\n",
      "337/337 - 0s - loss: 0.4521 - mae: 0.5303 - val_loss: 0.4635 - val_mae: 0.5262\n",
      "Epoch 49/100\n",
      "337/337 - 0s - loss: 0.4415 - mae: 0.5208 - val_loss: 0.5616 - val_mae: 0.5854\n",
      "Epoch 50/100\n",
      "337/337 - 0s - loss: 0.4221 - mae: 0.5251 - val_loss: 0.4770 - val_mae: 0.5490\n",
      "Epoch 51/100\n",
      "337/337 - 0s - loss: 0.4339 - mae: 0.5334 - val_loss: 0.4830 - val_mae: 0.5532\n",
      "Epoch 52/100\n",
      "337/337 - 0s - loss: 0.4183 - mae: 0.5056 - val_loss: 0.5133 - val_mae: 0.5675\n",
      "Epoch 53/100\n",
      "337/337 - 0s - loss: 0.4236 - mae: 0.5217 - val_loss: 0.4474 - val_mae: 0.5360\n",
      "Epoch 54/100\n",
      "337/337 - 0s - loss: 0.4045 - mae: 0.5089 - val_loss: 0.4914 - val_mae: 0.5503\n",
      "Epoch 55/100\n",
      "337/337 - 0s - loss: 0.4108 - mae: 0.5080 - val_loss: 0.5201 - val_mae: 0.5681\n",
      "Epoch 56/100\n",
      "337/337 - 0s - loss: 0.4372 - mae: 0.5154 - val_loss: 0.4906 - val_mae: 0.5570\n",
      "Epoch 57/100\n",
      "337/337 - 0s - loss: 0.3996 - mae: 0.4979 - val_loss: 0.4906 - val_mae: 0.5550\n",
      "Epoch 58/100\n",
      "337/337 - 0s - loss: 0.4004 - mae: 0.5042 - val_loss: 0.5098 - val_mae: 0.5630\n",
      "Epoch 59/100\n",
      "337/337 - 0s - loss: 0.3920 - mae: 0.4887 - val_loss: 0.4877 - val_mae: 0.5527\n",
      "Epoch 60/100\n",
      "337/337 - 0s - loss: 0.4291 - mae: 0.5206 - val_loss: 0.4903 - val_mae: 0.5553\n",
      "Epoch 61/100\n",
      "337/337 - 0s - loss: 0.3888 - mae: 0.4998 - val_loss: 0.5223 - val_mae: 0.5704\n",
      "Epoch 62/100\n",
      "337/337 - 0s - loss: 0.4174 - mae: 0.5102 - val_loss: 0.4882 - val_mae: 0.5508\n",
      "Epoch 63/100\n",
      "337/337 - 0s - loss: 0.3921 - mae: 0.4947 - val_loss: 0.5152 - val_mae: 0.5652\n",
      "Epoch 64/100\n",
      "337/337 - 0s - loss: 0.4002 - mae: 0.4937 - val_loss: 0.4893 - val_mae: 0.5435\n",
      "Epoch 65/100\n",
      "337/337 - 0s - loss: 0.3739 - mae: 0.4838 - val_loss: 0.5296 - val_mae: 0.5646\n",
      "Epoch 66/100\n",
      "337/337 - 0s - loss: 0.3764 - mae: 0.4908 - val_loss: 0.5232 - val_mae: 0.5588\n",
      "Epoch 67/100\n",
      "337/337 - 0s - loss: 0.3910 - mae: 0.4876 - val_loss: 0.4881 - val_mae: 0.5407\n",
      "Epoch 68/100\n",
      "337/337 - 0s - loss: 0.4041 - mae: 0.5085 - val_loss: 0.4976 - val_mae: 0.5501\n",
      "Epoch 69/100\n",
      "337/337 - 0s - loss: 0.3629 - mae: 0.4773 - val_loss: 0.5361 - val_mae: 0.5613\n",
      "Epoch 70/100\n",
      "337/337 - 0s - loss: 0.3737 - mae: 0.4831 - val_loss: 0.4957 - val_mae: 0.5421\n",
      "Epoch 71/100\n",
      "337/337 - 0s - loss: 0.3796 - mae: 0.4889 - val_loss: 0.4926 - val_mae: 0.5455\n",
      "Epoch 72/100\n",
      "337/337 - 0s - loss: 0.3971 - mae: 0.4913 - val_loss: 0.5390 - val_mae: 0.5658\n",
      "Epoch 73/100\n",
      "337/337 - 0s - loss: 0.3872 - mae: 0.4842 - val_loss: 0.5214 - val_mae: 0.5508\n",
      "Epoch 74/100\n",
      "337/337 - 0s - loss: 0.3742 - mae: 0.4857 - val_loss: 0.5145 - val_mae: 0.5539\n",
      "Epoch 75/100\n",
      "337/337 - 0s - loss: 0.3766 - mae: 0.4945 - val_loss: 0.5629 - val_mae: 0.5811\n",
      "Epoch 76/100\n",
      "337/337 - 0s - loss: 0.3869 - mae: 0.4956 - val_loss: 0.5237 - val_mae: 0.5655\n",
      "Epoch 77/100\n",
      "337/337 - 0s - loss: 0.3633 - mae: 0.4819 - val_loss: 0.5282 - val_mae: 0.5633\n",
      "Epoch 78/100\n",
      "337/337 - 0s - loss: 0.3809 - mae: 0.4813 - val_loss: 0.5314 - val_mae: 0.5669\n",
      "Epoch 79/100\n",
      "337/337 - 0s - loss: 0.3793 - mae: 0.4892 - val_loss: 0.5640 - val_mae: 0.5850\n",
      "Epoch 80/100\n",
      "337/337 - 0s - loss: 0.3515 - mae: 0.4695 - val_loss: 0.5672 - val_mae: 0.5841\n",
      "Epoch 81/100\n",
      "337/337 - 0s - loss: 0.3359 - mae: 0.4626 - val_loss: 0.5696 - val_mae: 0.5760\n",
      "Epoch 82/100\n",
      "337/337 - 0s - loss: 0.4081 - mae: 0.5060 - val_loss: 0.5730 - val_mae: 0.5804\n",
      "Epoch 83/100\n",
      "337/337 - 0s - loss: 0.4217 - mae: 0.5144 - val_loss: 0.5254 - val_mae: 0.5612\n",
      "Epoch 84/100\n",
      "337/337 - 0s - loss: 0.3800 - mae: 0.4992 - val_loss: 0.5212 - val_mae: 0.5578\n",
      "Epoch 85/100\n",
      "337/337 - 0s - loss: 0.3577 - mae: 0.4712 - val_loss: 0.5430 - val_mae: 0.5682\n",
      "Epoch 86/100\n",
      "337/337 - 0s - loss: 0.3556 - mae: 0.4846 - val_loss: 0.5514 - val_mae: 0.5713\n",
      "Epoch 87/100\n",
      "337/337 - 0s - loss: 0.3574 - mae: 0.4595 - val_loss: 0.5460 - val_mae: 0.5638\n",
      "Epoch 88/100\n",
      "337/337 - 0s - loss: 0.3499 - mae: 0.4728 - val_loss: 0.5048 - val_mae: 0.5486\n",
      "Epoch 89/100\n",
      "337/337 - 0s - loss: 0.3641 - mae: 0.4813 - val_loss: 0.5385 - val_mae: 0.5581\n"
     ]
    },
    {
     "name": "stdout",
     "output_type": "stream",
     "text": [
      "Epoch 90/100\n",
      "337/337 - 0s - loss: 0.3474 - mae: 0.4631 - val_loss: 0.5296 - val_mae: 0.5514\n",
      "Epoch 91/100\n",
      "337/337 - 0s - loss: 0.3519 - mae: 0.4583 - val_loss: 0.5787 - val_mae: 0.5687\n",
      "Epoch 92/100\n",
      "337/337 - 0s - loss: 0.3608 - mae: 0.4816 - val_loss: 0.5569 - val_mae: 0.5667\n",
      "Epoch 93/100\n",
      "337/337 - 0s - loss: 0.3499 - mae: 0.4619 - val_loss: 0.5549 - val_mae: 0.5672\n",
      "Epoch 94/100\n",
      "337/337 - 0s - loss: 0.3528 - mae: 0.4711 - val_loss: 0.5640 - val_mae: 0.5667\n",
      "Epoch 95/100\n",
      "337/337 - 0s - loss: 0.3365 - mae: 0.4528 - val_loss: 0.5590 - val_mae: 0.5644\n",
      "Epoch 96/100\n",
      "337/337 - 0s - loss: 0.3571 - mae: 0.4631 - val_loss: 0.5600 - val_mae: 0.5651\n",
      "Epoch 97/100\n",
      "337/337 - 0s - loss: 0.3106 - mae: 0.4355 - val_loss: 0.5239 - val_mae: 0.5510\n",
      "Epoch 98/100\n",
      "337/337 - 0s - loss: 0.3265 - mae: 0.4502 - val_loss: 0.5244 - val_mae: 0.5542\n",
      "Epoch 99/100\n",
      "337/337 - 0s - loss: 0.3483 - mae: 0.4693 - val_loss: 0.5376 - val_mae: 0.5611\n",
      "Epoch 100/100\n",
      "337/337 - 0s - loss: 0.3281 - mae: 0.4529 - val_loss: 0.5097 - val_mae: 0.5517\n"
     ]
    }
   ],
   "source": [
    "# Train the model, with some of the data reserved for validation\n",
    "history = model.fit(train_data, train_targets, epochs=100, validation_split=0.15, batch_size=64, verbose=2)"
   ]
  },
  {
   "cell_type": "code",
   "execution_count": 22,
   "metadata": {},
   "outputs": [
    {
     "name": "stdout",
     "output_type": "stream",
     "text": [
      "45/1 - 0s - loss: 0.9259 - mae: 0.7970\n"
     ]
    },
    {
     "data": {
      "text/plain": [
       "[0.8977379891607496, 0.7970338]"
      ]
     },
     "execution_count": 22,
     "metadata": {},
     "output_type": "execute_result"
    }
   ],
   "source": [
    "# Evaluate the model on the test set\n",
    "model.evaluate(test_data, test_targets, verbose=2)"
   ]
  },
  {
   "cell_type": "code",
   "execution_count": 23,
   "metadata": {},
   "outputs": [
    {
     "data": {
      "image/png": "[encoded data removed]",
      "text/plain": [
       "<Figure size 432x288 with 1 Axes>"
      ]
     },
     "metadata": {
      "needs_background": "light"
     },
     "output_type": "display_data"
    }
   ],
   "source": [
    "# Plot the training and validation loss\n",
    "\n",
    "import matplotlib.pyplot as plt\n",
    "\n",
    "plt.plot(history.history['loss'])\n",
    "plt.plot(history.history['val_loss'])\n",
    "plt.title('Loss vs. epochs')\n",
    "plt.ylabel('Loss')\n",
    "plt.xlabel('Epoch')\n",
    "plt.legend(['Training', 'Validation'], loc='upper right')\n",
    "plt.show()"
   ]
  }
 ],
 "metadata": {
  "kernelspec": {
   "display_name": "Python 3",
   "language": "python",
   "name": "python3"
  },
  "language_info": {
   "codemirror_mode": {
    "name": "ipython",
    "version": 3
   },
   "file_extension": ".py",
   "mimetype": "text/x-python",
   "name": "python",
   "nbconvert_exporter": "python",
   "pygments_lexer": "ipython3",
   "version": "3.7.6"
  }
 },
 "nbformat": 4,
 "nbformat_minor": 2
}
