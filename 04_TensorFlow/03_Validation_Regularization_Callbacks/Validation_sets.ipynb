{
 "cells": [
  {
   "cell_type": "code",
   "execution_count": 1,
   "metadata": {},
   "outputs": [
    {
     "name": "stdout",
     "output_type": "stream",
     "text": [
      "2.0.0\n"
     ]
    }
   ],
   "source": [
    "import tensorflow as tf\n",
    "print(tf.__version__)"
   ]
  },
  {
   "cell_type": "markdown",
   "metadata": {},
   "source": [
    "# Validation"
   ]
  },
  {
   "cell_type": "markdown",
   "metadata": {},
   "source": [
    "***\n",
    "<a id=\"coding_tutorial_1\"></a>\n",
    "## Validation sets"
   ]
  },
  {
   "cell_type": "markdown",
   "metadata": {},
   "source": [
    "#### Load the data"
   ]
  },
  {
   "cell_type": "code",
   "execution_count": 2,
   "metadata": {},
   "outputs": [
    {
     "name": "stdout",
     "output_type": "stream",
     "text": [
      ".. _diabetes_dataset:\n",
      "\n",
      "Diabetes dataset\n",
      "----------------\n",
      "\n",
      "Ten baseline variables, age, sex, body mass index, average blood\n",
      "pressure, and six blood serum measurements were obtained for each of n =\n",
      "442 diabetes patients, as well as the response of interest, a\n",
      "quantitative measure of disease progression one year after baseline.\n",
      "\n",
      "**Data Set Characteristics:**\n",
      "\n",
      "  :Number of Instances: 442\n",
      "\n",
      "  :Number of Attributes: First 10 columns are numeric predictive values\n",
      "\n",
      "  :Target: Column 11 is a quantitative measure of disease progression one year after baseline\n",
      "\n",
      "  :Attribute Information:\n",
      "      - Age\n",
      "      - Sex\n",
      "      - Body mass index\n",
      "      - Average blood pressure\n",
      "      - S1\n",
      "      - S2\n",
      "      - S3\n",
      "      - S4\n",
      "      - S5\n",
      "      - S6\n",
      "\n",
      "Note: Each of these 10 feature variables have been mean centered and scaled by the standard deviation times `n_samples` (i.e. the sum of squares of each column totals 1).\n",
      "\n",
      "Source URL:\n",
      "https://www4.stat.ncsu.edu/~boos/var.select/diabetes.html\n",
      "\n",
      "For more information see:\n",
      "Bradley Efron, Trevor Hastie, Iain Johnstone and Robert Tibshirani (2004) \"Least Angle Regression,\" Annals of Statistics (with discussion), 407-499.\n",
      "(https://web.stanford.edu/~hastie/Papers/LARS/LeastAngle_2002.pdf)\n"
     ]
    }
   ],
   "source": [
    "# Load the diabetes datasets\n",
    "\n",
    "from sklearn.datasets import load_diabetes\n",
    "\n",
    "diabetes_dataset = load_diabetes()\n",
    "print(diabetes_dataset['DESCR'])"
   ]
  },
  {
   "cell_type": "code",
   "execution_count": 3,
   "metadata": {},
   "outputs": [
    {
     "name": "stdout",
     "output_type": "stream",
     "text": [
      "dict_keys(['data', 'target', 'DESCR', 'feature_names', 'data_filename', 'target_filename'])\n"
     ]
    }
   ],
   "source": [
    "# Save the input and target variables\n",
    "\n",
    "print(diabetes_dataset.keys())\n",
    "data = diabetes_dataset[\"data\"]\n",
    "targets = diabetes_dataset['target']"
   ]
  },
  {
   "cell_type": "code",
   "execution_count": 4,
   "metadata": {},
   "outputs": [
    {
     "data": {
      "text/plain": [
       "((442, 10), (442,))"
      ]
     },
     "execution_count": 4,
     "metadata": {},
     "output_type": "execute_result"
    }
   ],
   "source": [
    "data.shape, targets.shape"
   ]
  },
  {
   "cell_type": "code",
   "execution_count": 5,
   "metadata": {},
   "outputs": [
    {
     "data": {
      "text/plain": [
       "array([-1.47194752e-02, -1.00165882e+00, -1.44579915e-01,  6.99512942e-01,\n",
       "       -2.22496178e-01, -7.15965848e-01, -1.83538046e-01, -1.15749134e+00,\n",
       "       -5.47147277e-01,  2.05006151e+00, -6.64021672e-01, -1.07957508e+00,\n",
       "        3.48889755e-01,  4.26806019e-01, -4.43258925e-01,  2.45001404e-01,\n",
       "        1.80071184e-01, -1.05621783e-01, -7.15965848e-01,  2.06043272e-01,\n",
       "       -1.09256112e+00, -1.33929596e+00, -1.09256112e+00,  1.20596866e+00,\n",
       "        4.13819975e-01,  6.47568766e-01, -1.96524090e-01, -8.71798376e-01,\n",
       "       -2.74440354e-01,  1.69943833e+00, -3.00412442e-01, -1.20943552e+00,\n",
       "        2.45262887e+00, -8.45826288e-01, -1.13151925e+00, -6.51035629e-01,\n",
       "        1.46568953e+00,  1.60853602e+00,  1.29687096e+00, -8.06868156e-01,\n",
       "       -6.77007716e-01, -1.26137969e+00, -1.18346343e+00, -7.80896068e-01,\n",
       "        1.38777327e+00, -1.28735178e+00,  4.91736239e-01, -1.31593871e-01,\n",
       "       -1.00165882e+00, -1.31593871e-01,  3.72247006e-02,  9.46247777e-01,\n",
       "       -1.20943552e+00, -6.25063541e-01,  3.87847887e-01, -3.13398486e-01,\n",
       "       -1.30033783e+00, -1.49512849e+00,  2.32015360e-01,  2.32015360e-01,\n",
       "       -1.18346343e+00, -1.05621783e-01, -1.30033783e+00, -3.13398486e-01,\n",
       "       -1.05360299e+00,  1.41113052e-01, -2.77055191e-02, -7.15965848e-01,\n",
       "        1.02154920e-01,  3.35903711e-01, -1.35228200e+00,  1.53061975e+00,\n",
       "        6.47568766e-01, -5.34161233e-01, -8.71798376e-01, -1.43019827e+00,\n",
       "        2.32015360e-01,  6.21596678e-01,  1.29687096e+00, -5.08189145e-01,\n",
       "       -1.18607827e-01, -1.31332387e+00, -1.30033783e+00,  7.51457118e-01,\n",
       "       -1.13151925e+00, -1.44579915e-01, -1.26137969e+00, -2.35482222e-01,\n",
       "       -1.43019827e+00, -5.34161233e-01, -7.02979804e-01,  1.54099096e-01,\n",
       "       -1.35228200e+00, -7.28951892e-01, -8.06868156e-01,  1.28127008e-01,\n",
       "       -2.77055191e-02,  1.64749415e+00, -7.80896068e-01, -8.97770464e-01,\n",
       "       -3.13398486e-01, -6.51035629e-01,  1.94617316e+00,  5.95624590e-01,\n",
       "       -7.41937936e-01, -1.28735178e+00, -2.35482222e-01, -1.05621783e-01,\n",
       "        1.03715008e+00, -9.23742551e-01, -6.25063541e-01, -1.20943552e+00,\n",
       "        1.21895470e+00,  1.88124294e+00,  1.37478723e+00,  9.98191953e-01,\n",
       "        1.59554997e+00,  1.67346624e+00,  3.48889755e-01,  6.21596678e-01,\n",
       "        6.21596678e-01,  2.70973492e-01,  3.61875799e-01, -8.84784420e-01,\n",
       "       -4.04300794e-01,  1.15140964e-01, -6.89993760e-01, -5.60133321e-01,\n",
       "       -4.82217057e-01,  1.50464767e+00,  1.58256393e+00,  7.61828325e-02,\n",
       "       -5.86105409e-01, -8.97770464e-01, -6.38049585e-01,  1.55659184e+00,\n",
       "       -8.71798376e-01,  1.66048019e+00,  2.38769865e+00,  1.67346624e+00,\n",
       "       -4.43258925e-01,  2.14096382e+00,  1.07610822e+00, -1.19644947e+00,\n",
       "        2.83959536e-01,  1.38777327e+00,  3.35903711e-01, -3.13398486e-01,\n",
       "       -7.28951892e-01, -3.39370574e-01,  1.76436855e+00, -8.32840244e-01,\n",
       "        1.81631272e+00, -1.05360299e+00,  5.82638546e-01,  4.39792063e-01,\n",
       "       -1.65096101e+00, -8.84784420e-01, -7.28951892e-01,  5.56666458e-01,\n",
       "       -1.28735178e+00,  8.42359425e-01,  2.57987448e-01, -2.74440354e-01,\n",
       "        8.03401293e-01, -1.20943552e+00, -1.06658903e+00,  8.81317557e-01,\n",
       "        1.50464767e+00, -1.73343121e-03, -1.36526805e+00, -1.01464486e+00,\n",
       "        1.85527085e+00, -6.64021672e-01, -1.47194752e-02, -3.26384530e-01,\n",
       "        1.10208030e+00,  9.46247777e-01, -9.23742551e-01, -1.47194752e-02,\n",
       "       -5.86105409e-01, -1.14450530e+00, -1.83538046e-01,  4.26806019e-01,\n",
       "        1.46568953e+00, -6.64021672e-01, -1.96524090e-01, -1.18607827e-01,\n",
       "       -1.44579915e-01, -9.49714639e-01,  1.81631272e+00,  3.35903711e-01,\n",
       "       -7.93882112e-01, -4.69231013e-01, -8.58812332e-01, -3.91314750e-01,\n",
       "       -1.04061695e+00, -3.00412442e-01, -1.31593871e-01, -8.06868156e-01,\n",
       "        7.61828325e-02, -1.46915640e+00,  5.69652502e-01,  9.07289645e-01,\n",
       "        1.62152206e+00, -6.89993760e-01,  5.69652502e-01,  6.47568766e-01,\n",
       "        3.72247006e-02, -9.75686727e-01,  5.04722283e-01, -1.06658903e+00,\n",
       "       -1.02763090e+00, -1.33929596e+00, -1.13151925e+00,  1.43971745e+00,\n",
       "        1.24492679e+00,  1.86825690e+00,  8.03401293e-01,  4.26806019e-01,\n",
       "       -9.62700683e-01, -7.67910024e-01,  1.29687096e+00, -2.77055191e-02,\n",
       "       -9.75686727e-01,  7.25485030e-01, -9.75686727e-01, -5.73119365e-01,\n",
       "        1.02154920e-01, -1.28735178e+00,  8.81317557e-01,  2.42386567e-02,\n",
       "        1.38777327e+00, -8.06868156e-01,  1.21895470e+00, -3.65342662e-01,\n",
       "       -1.10554717e+00, -1.04061695e+00,  1.36180118e+00,  1.42673140e+00,\n",
       "        1.59554997e+00,  3.22917667e-01, -1.05360299e+00, -1.36526805e+00,\n",
       "        4.52778107e-01, -3.52356618e-01, -9.62700683e-01, -1.31332387e+00,\n",
       "        1.37478723e+00,  8.16387337e-01,  1.95915920e+00,  1.17999657e+00,\n",
       "       -7.93882112e-01, -2.77055191e-02,  2.05006151e+00,  1.12526127e-02,\n",
       "        2.51755909e+00, -1.15749134e+00, -8.19854200e-01, -1.32630991e+00,\n",
       "       -1.46915640e+00, -6.38049585e-01,  2.02408942e+00, -4.69231013e-01,\n",
       "       -9.26357388e-02, -1.01464486e+00, -1.39124013e+00, -4.82217057e-01,\n",
       "        1.45270349e+00, -8.45826288e-01,  6.47568766e-01, -3.26384530e-01,\n",
       "        3.87847887e-01,  1.15402448e+00, -1.11853321e+00, -7.54923980e-01,\n",
       "        1.69943833e+00, -1.14450530e+00, -6.51035629e-01,  6.21596678e-01,\n",
       "        1.46568953e+00, -7.54923980e-01,  1.01117800e+00,  3.74861843e-01,\n",
       "        5.02107446e-02,  1.05013613e+00, -1.19644947e+00,  8.68331513e-01,\n",
       "       -9.36728595e-01, -1.09256112e+00,  2.33575448e+00,  1.24492679e+00,\n",
       "       -8.84784420e-01,  6.21596678e-01, -1.26137969e+00, -8.71798376e-01,\n",
       "       -8.19854200e-01, -1.57304475e+00, -3.00412442e-01, -8.97770464e-01,\n",
       "        1.59554997e+00, -1.13151925e+00,  5.95624590e-01,  1.08909426e+00,\n",
       "        1.30985701e+00, -3.65342662e-01, -1.40422618e+00,  2.57987448e-01,\n",
       "       -4.95203101e-01, -1.31593871e-01, -5.60133321e-01,  3.61875799e-01,\n",
       "       -1.05621783e-01,  1.41113052e-01, -6.66636509e-02, -7.15965848e-01,\n",
       "        8.81317557e-01,  4.91736239e-01, -5.60133321e-01,  5.04722283e-01,\n",
       "       -3.91314750e-01,  1.01117800e+00,  1.16701052e+00,  1.24492679e+00,\n",
       "        1.25791283e+00,  5.17708327e-01, -2.74440354e-01,  1.10208030e+00,\n",
       "       -9.62700683e-01, -2.22496178e-01,  1.19298261e+00,  6.08610634e-01,\n",
       "        1.53061975e+00,  1.54099096e-01, -1.04061695e+00, -7.28951892e-01,\n",
       "        1.99811734e+00, -7.93882112e-01,  8.03401293e-01, -7.41937936e-01,\n",
       "        8.29373381e-01,  1.43971745e+00,  3.35903711e-01, -5.08189145e-01,\n",
       "        6.21596678e-01, -1.70552003e-01, -1.70552003e-01, -8.32840244e-01,\n",
       "       -5.36776070e-02, -8.32840244e-01,  1.17999657e+00, -1.05360299e+00,\n",
       "       -9.75686727e-01, -5.60133321e-01,  1.55659184e+00, -1.19644947e+00,\n",
       "       -1.27436574e+00,  8.94303601e-01, -8.06868156e-01,  2.06304756e+00,\n",
       "        1.67346624e+00,  3.87847887e-01,  2.19290800e+00, -1.22242156e+00,\n",
       "        1.42673140e+00,  6.99512942e-01,  1.05013613e+00,  1.16701052e+00,\n",
       "       -3.78328706e-01,  1.93057228e-01, -1.15749134e+00,  5.82638546e-01,\n",
       "       -1.05360299e+00,  2.06043272e-01, -1.57565959e-01,  8.42359425e-01,\n",
       "       -4.04300794e-01,  1.07610822e+00,  1.20596866e+00, -1.45617035e+00,\n",
       "       -1.30033783e+00, -6.25063541e-01, -2.61454310e-01, -8.32840244e-01,\n",
       "       -1.07957508e+00,  8.68331513e-01, -1.04061695e+00,  6.34582722e-01,\n",
       "       -5.47147277e-01, -1.31332387e+00,  1.62152206e+00, -1.15749134e+00,\n",
       "       -4.43258925e-01, -1.07957508e+00,  1.56957789e+00,  1.37478723e+00,\n",
       "       -1.41721222e+00,  5.95624590e-01,  1.16701052e+00,  1.03715008e+00,\n",
       "        2.96945580e-01, -7.67910024e-01,  2.06043272e-01,  1.59554997e+00,\n",
       "        1.82929877e+00,  1.67346624e+00, -1.04061695e+00, -1.57565959e-01,\n",
       "        4.78750195e-01,  3.74861843e-01,  7.38471074e-01, -2.09510134e-01,\n",
       "        1.41374536e+00, -5.08189145e-01, -2.74440354e-01,  2.83959536e-01,\n",
       "        1.36180118e+00, -1.26137969e+00, -8.84784420e-01, -1.43019827e+00,\n",
       "       -7.96496949e-02,  7.77429206e-01,  1.05013613e+00, -7.93882112e-01,\n",
       "       -5.34161233e-01, -1.73343121e-03, -4.17286837e-01, -1.10554717e+00,\n",
       "        2.05006151e+00, -7.54923980e-01,  4.00833931e-01, -1.11853321e+00,\n",
       "        2.70973492e-01, -1.04061695e+00, -1.33929596e+00, -1.14450530e+00,\n",
       "       -1.35228200e+00,  3.35903711e-01, -6.25063541e-01, -2.61454310e-01,\n",
       "        8.81317557e-01, -1.23540761e+00])"
      ]
     },
     "execution_count": 5,
     "metadata": {},
     "output_type": "execute_result"
    }
   ],
   "source": [
    "# Normalise the target data (this will make clearer training curves)\n",
    "targets = (targets - targets.mean(axis=0)) / targets.std()\n",
    "targets"
   ]
  },
  {
   "cell_type": "code",
   "execution_count": 7,
   "metadata": {},
   "outputs": [
    {
     "name": "stdout",
     "output_type": "stream",
     "text": [
      "(397, 10)\n",
      "(45, 10)\n",
      "(397,)\n",
      "(45,)\n"
     ]
    }
   ],
   "source": [
    "# Split the data into train and test sets\n",
    "\n",
    "from sklearn.model_selection import train_test_split\n",
    "\n",
    "train_data, test_data, train_targets, test_targets = train_test_split(data, targets, test_size=0.1)\n",
    "\n",
    "print(train_data.shape)\n",
    "print(test_data.shape)\n",
    "print(train_targets.shape)\n",
    "print(test_targets.shape)"
   ]
  },
  {
   "cell_type": "markdown",
   "metadata": {},
   "source": [
    "#### Train a feedforward neural network model"
   ]
  },
  {
   "cell_type": "code",
   "execution_count": 9,
   "metadata": {},
   "outputs": [],
   "source": [
    "# Build a model\n",
    "\n",
    "from tensorflow.keras.models import Sequential\n",
    "from tensorflow.keras.layers import Dense\n",
    "\n",
    "def get_model():\n",
    "    model = Sequential([\n",
    "        Dense(128, activation='relu', input_shape=(train_data.shape[1],)),\n",
    "        Dense(128, activation='relu'),\n",
    "        Dense(128, activation='relu'),\n",
    "        Dense(128, activation='relu'),\n",
    "        Dense(128, activation='relu'),\n",
    "        Dense(128, activation='relu'),\n",
    "        Dense(1)\n",
    "    ])\n",
    "    \n",
    "    return model\n",
    "model = get_model()"
   ]
  },
  {
   "cell_type": "code",
   "execution_count": 10,
   "metadata": {},
   "outputs": [
    {
     "name": "stdout",
     "output_type": "stream",
     "text": [
      "Model: \"sequential\"\n",
      "_________________________________________________________________\n",
      "Layer (type)                 Output Shape              Param #   \n",
      "=================================================================\n",
      "dense (Dense)                (None, 128)               1408      \n",
      "_________________________________________________________________\n",
      "dense_1 (Dense)              (None, 128)               16512     \n",
      "_________________________________________________________________\n",
      "dense_2 (Dense)              (None, 128)               16512     \n",
      "_________________________________________________________________\n",
      "dense_3 (Dense)              (None, 128)               16512     \n",
      "_________________________________________________________________\n",
      "dense_4 (Dense)              (None, 128)               16512     \n",
      "_________________________________________________________________\n",
      "dense_5 (Dense)              (None, 128)               16512     \n",
      "_________________________________________________________________\n",
      "dense_6 (Dense)              (None, 1)                 129       \n",
      "=================================================================\n",
      "Total params: 84,097\n",
      "Trainable params: 84,097\n",
      "Non-trainable params: 0\n",
      "_________________________________________________________________\n"
     ]
    }
   ],
   "source": [
    "# Print the model summary\n",
    "model.summary()"
   ]
  },
  {
   "cell_type": "code",
   "execution_count": 11,
   "metadata": {},
   "outputs": [],
   "source": [
    "# Compile the model\n",
    "\n",
    "model.compile(optimizer='adam', loss='mse', metrics=['mae'])"
   ]
  },
  {
   "cell_type": "code",
   "execution_count": 12,
   "metadata": {},
   "outputs": [
    {
     "name": "stdout",
     "output_type": "stream",
     "text": [
      "Train on 337 samples, validate on 60 samples\n",
      "Epoch 1/100\n",
      "337/337 - 2s - loss: 1.0078 - mae: 0.8605 - val_loss: 0.7835 - val_mae: 0.7494\n",
      "Epoch 2/100\n",
      "337/337 - 0s - loss: 0.9159 - mae: 0.8243 - val_loss: 0.6670 - val_mae: 0.6806\n",
      "Epoch 3/100\n",
      "337/337 - 0s - loss: 0.7160 - mae: 0.7319 - val_loss: 0.5195 - val_mae: 0.6090\n",
      "Epoch 4/100\n",
      "337/337 - 0s - loss: 0.5683 - mae: 0.6044 - val_loss: 0.4050 - val_mae: 0.5060\n",
      "Epoch 5/100\n",
      "337/337 - 0s - loss: 0.5099 - mae: 0.5771 - val_loss: 0.5275 - val_mae: 0.6123\n",
      "Epoch 6/100\n",
      "337/337 - 0s - loss: 0.5058 - mae: 0.5768 - val_loss: 0.5851 - val_mae: 0.6455\n",
      "Epoch 7/100\n",
      "337/337 - 0s - loss: 0.5280 - mae: 0.5843 - val_loss: 0.3860 - val_mae: 0.4650\n",
      "Epoch 8/100\n",
      "337/337 - 0s - loss: 0.5082 - mae: 0.5680 - val_loss: 0.5120 - val_mae: 0.6046\n",
      "Epoch 9/100\n",
      "337/337 - 0s - loss: 0.4776 - mae: 0.5599 - val_loss: 0.3968 - val_mae: 0.4916\n",
      "Epoch 10/100\n",
      "337/337 - 0s - loss: 0.4626 - mae: 0.5593 - val_loss: 0.4707 - val_mae: 0.5663\n",
      "Epoch 11/100\n",
      "337/337 - 0s - loss: 0.4584 - mae: 0.5479 - val_loss: 0.3947 - val_mae: 0.4881\n",
      "Epoch 12/100\n",
      "337/337 - 0s - loss: 0.4476 - mae: 0.5379 - val_loss: 0.4215 - val_mae: 0.5134\n",
      "Epoch 13/100\n",
      "337/337 - 0s - loss: 0.4434 - mae: 0.5368 - val_loss: 0.4057 - val_mae: 0.4982\n",
      "Epoch 14/100\n",
      "337/337 - 0s - loss: 0.4359 - mae: 0.5287 - val_loss: 0.5248 - val_mae: 0.5997\n",
      "Epoch 15/100\n",
      "337/337 - 0s - loss: 0.4516 - mae: 0.5377 - val_loss: 0.3933 - val_mae: 0.4589\n",
      "Epoch 16/100\n",
      "337/337 - 0s - loss: 0.4594 - mae: 0.5449 - val_loss: 0.4354 - val_mae: 0.5314\n",
      "Epoch 17/100\n",
      "337/337 - 0s - loss: 0.4366 - mae: 0.5308 - val_loss: 0.4506 - val_mae: 0.5446\n",
      "Epoch 18/100\n",
      "337/337 - 0s - loss: 0.4361 - mae: 0.5238 - val_loss: 0.3893 - val_mae: 0.4555\n",
      "Epoch 19/100\n",
      "337/337 - 0s - loss: 0.4477 - mae: 0.5291 - val_loss: 0.5478 - val_mae: 0.6175\n",
      "Epoch 20/100\n",
      "337/337 - 0s - loss: 0.4301 - mae: 0.5346 - val_loss: 0.3792 - val_mae: 0.4577\n",
      "Epoch 21/100\n",
      "337/337 - 0s - loss: 0.3992 - mae: 0.5041 - val_loss: 0.4651 - val_mae: 0.5612\n",
      "Epoch 22/100\n",
      "337/337 - 0s - loss: 0.3970 - mae: 0.4934 - val_loss: 0.3999 - val_mae: 0.4453\n",
      "Epoch 23/100\n",
      "337/337 - 0s - loss: 0.4361 - mae: 0.5191 - val_loss: 0.6449 - val_mae: 0.6783\n",
      "Epoch 24/100\n",
      "337/337 - 0s - loss: 0.4306 - mae: 0.5383 - val_loss: 0.3820 - val_mae: 0.4505\n",
      "Epoch 25/100\n",
      "337/337 - 0s - loss: 0.4142 - mae: 0.5159 - val_loss: 0.4298 - val_mae: 0.5319\n",
      "Epoch 26/100\n",
      "337/337 - 0s - loss: 0.3892 - mae: 0.5018 - val_loss: 0.4099 - val_mae: 0.5022\n",
      "Epoch 27/100\n",
      "337/337 - 0s - loss: 0.3699 - mae: 0.4901 - val_loss: 0.3998 - val_mae: 0.4837\n",
      "Epoch 28/100\n",
      "337/337 - 0s - loss: 0.3569 - mae: 0.4664 - val_loss: 0.4245 - val_mae: 0.4974\n",
      "Epoch 29/100\n",
      "337/337 - 0s - loss: 0.3490 - mae: 0.4671 - val_loss: 0.4508 - val_mae: 0.5206\n",
      "Epoch 30/100\n",
      "337/337 - 0s - loss: 0.3522 - mae: 0.4709 - val_loss: 0.3869 - val_mae: 0.4566\n",
      "Epoch 31/100\n",
      "337/337 - 0s - loss: 0.3450 - mae: 0.4703 - val_loss: 0.4256 - val_mae: 0.5060\n",
      "Epoch 32/100\n",
      "337/337 - 0s - loss: 0.3156 - mae: 0.4483 - val_loss: 0.4233 - val_mae: 0.4980\n",
      "Epoch 33/100\n",
      "337/337 - 0s - loss: 0.3055 - mae: 0.4375 - val_loss: 0.4031 - val_mae: 0.4724\n",
      "Epoch 34/100\n",
      "337/337 - 0s - loss: 0.2956 - mae: 0.4262 - val_loss: 0.4433 - val_mae: 0.4946\n",
      "Epoch 35/100\n",
      "337/337 - 0s - loss: 0.2893 - mae: 0.4207 - val_loss: 0.6201 - val_mae: 0.6250\n",
      "Epoch 36/100\n",
      "337/337 - 0s - loss: 0.3027 - mae: 0.4281 - val_loss: 0.4413 - val_mae: 0.5079\n",
      "Epoch 37/100\n",
      "337/337 - 0s - loss: 0.2691 - mae: 0.4077 - val_loss: 0.5416 - val_mae: 0.5827\n",
      "Epoch 38/100\n",
      "337/337 - 0s - loss: 0.2723 - mae: 0.4194 - val_loss: 0.4359 - val_mae: 0.5031\n",
      "Epoch 39/100\n",
      "337/337 - 0s - loss: 0.2521 - mae: 0.3951 - val_loss: 0.4614 - val_mae: 0.5116\n",
      "Epoch 40/100\n",
      "337/337 - 0s - loss: 0.2528 - mae: 0.3933 - val_loss: 0.4385 - val_mae: 0.5080\n",
      "Epoch 41/100\n",
      "337/337 - 0s - loss: 0.2230 - mae: 0.3750 - val_loss: 0.4903 - val_mae: 0.5254\n",
      "Epoch 42/100\n",
      "337/337 - 0s - loss: 0.2104 - mae: 0.3604 - val_loss: 0.5818 - val_mae: 0.5770\n",
      "Epoch 43/100\n",
      "337/337 - 0s - loss: 0.1992 - mae: 0.3484 - val_loss: 0.5782 - val_mae: 0.5738\n",
      "Epoch 44/100\n",
      "337/337 - 0s - loss: 0.2047 - mae: 0.3543 - val_loss: 0.5066 - val_mae: 0.5357\n",
      "Epoch 45/100\n",
      "337/337 - 0s - loss: 0.2291 - mae: 0.3800 - val_loss: 0.5384 - val_mae: 0.5599\n",
      "Epoch 46/100\n",
      "337/337 - 0s - loss: 0.1881 - mae: 0.3362 - val_loss: 0.5041 - val_mae: 0.5295\n",
      "Epoch 47/100\n",
      "337/337 - 0s - loss: 0.1776 - mae: 0.3252 - val_loss: 0.5255 - val_mae: 0.5341\n",
      "Epoch 48/100\n",
      "337/337 - 0s - loss: 0.1607 - mae: 0.3123 - val_loss: 0.5529 - val_mae: 0.5484\n",
      "Epoch 49/100\n",
      "337/337 - 0s - loss: 0.1578 - mae: 0.3042 - val_loss: 0.5782 - val_mae: 0.5704\n",
      "Epoch 50/100\n",
      "337/337 - 0s - loss: 0.1531 - mae: 0.3012 - val_loss: 0.4711 - val_mae: 0.5083\n",
      "Epoch 51/100\n",
      "337/337 - 0s - loss: 0.1501 - mae: 0.3013 - val_loss: 0.6570 - val_mae: 0.6177\n",
      "Epoch 52/100\n",
      "337/337 - 0s - loss: 0.1412 - mae: 0.2913 - val_loss: 0.5459 - val_mae: 0.5308\n",
      "Epoch 53/100\n",
      "337/337 - 0s - loss: 0.1445 - mae: 0.2977 - val_loss: 0.5903 - val_mae: 0.5977\n",
      "Epoch 54/100\n",
      "337/337 - 0s - loss: 0.1733 - mae: 0.3290 - val_loss: 0.5214 - val_mae: 0.5559\n",
      "Epoch 55/100\n",
      "337/337 - 0s - loss: 0.1368 - mae: 0.2872 - val_loss: 0.6024 - val_mae: 0.5861\n",
      "Epoch 56/100\n",
      "337/337 - 0s - loss: 0.1108 - mae: 0.2547 - val_loss: 0.5855 - val_mae: 0.5702\n",
      "Epoch 57/100\n",
      "337/337 - 0s - loss: 0.1110 - mae: 0.2591 - val_loss: 0.6772 - val_mae: 0.6236\n",
      "Epoch 58/100\n",
      "337/337 - 0s - loss: 0.1144 - mae: 0.2695 - val_loss: 0.6634 - val_mae: 0.6239\n",
      "Epoch 59/100\n",
      "337/337 - 0s - loss: 0.1683 - mae: 0.3176 - val_loss: 0.6183 - val_mae: 0.5756\n",
      "Epoch 60/100\n",
      "337/337 - 0s - loss: 0.1638 - mae: 0.3235 - val_loss: 0.5402 - val_mae: 0.5275\n",
      "Epoch 61/100\n",
      "337/337 - 0s - loss: 0.1521 - mae: 0.3027 - val_loss: 0.5476 - val_mae: 0.5161\n",
      "Epoch 62/100\n",
      "337/337 - 0s - loss: 0.1432 - mae: 0.2991 - val_loss: 0.6048 - val_mae: 0.5326\n",
      "Epoch 63/100\n",
      "337/337 - 0s - loss: 0.1838 - mae: 0.3449 - val_loss: 0.5407 - val_mae: 0.5349\n",
      "Epoch 64/100\n",
      "337/337 - 0s - loss: 0.1335 - mae: 0.2876 - val_loss: 0.5611 - val_mae: 0.5704\n",
      "Epoch 65/100\n",
      "337/337 - 0s - loss: 0.1341 - mae: 0.2864 - val_loss: 0.6550 - val_mae: 0.6287\n",
      "Epoch 66/100\n",
      "337/337 - 0s - loss: 0.1074 - mae: 0.2609 - val_loss: 0.6597 - val_mae: 0.6163\n",
      "Epoch 67/100\n",
      "337/337 - 0s - loss: 0.1048 - mae: 0.2500 - val_loss: 0.5991 - val_mae: 0.5724\n",
      "Epoch 68/100\n",
      "337/337 - 0s - loss: 0.0936 - mae: 0.2385 - val_loss: 0.6080 - val_mae: 0.6054\n",
      "Epoch 69/100\n",
      "337/337 - 0s - loss: 0.1055 - mae: 0.2452 - val_loss: 0.6503 - val_mae: 0.6309\n",
      "Epoch 70/100\n",
      "337/337 - 0s - loss: 0.1102 - mae: 0.2583 - val_loss: 0.5610 - val_mae: 0.5752\n",
      "Epoch 71/100\n",
      "337/337 - 0s - loss: 0.0957 - mae: 0.2319 - val_loss: 0.6163 - val_mae: 0.5927\n",
      "Epoch 72/100\n",
      "337/337 - 0s - loss: 0.0913 - mae: 0.2313 - val_loss: 0.6057 - val_mae: 0.5970\n",
      "Epoch 73/100\n",
      "337/337 - 0s - loss: 0.0901 - mae: 0.2313 - val_loss: 0.5880 - val_mae: 0.5916\n",
      "Epoch 74/100\n",
      "337/337 - 0s - loss: 0.0919 - mae: 0.2395 - val_loss: 0.6954 - val_mae: 0.6536\n",
      "Epoch 75/100\n",
      "337/337 - 0s - loss: 0.0717 - mae: 0.2042 - val_loss: 0.6290 - val_mae: 0.6111\n",
      "Epoch 76/100\n",
      "337/337 - 0s - loss: 0.0650 - mae: 0.1880 - val_loss: 0.6696 - val_mae: 0.6244\n",
      "Epoch 77/100\n",
      "337/337 - 0s - loss: 0.0593 - mae: 0.1784 - val_loss: 0.6424 - val_mae: 0.6166\n",
      "Epoch 78/100\n",
      "337/337 - 0s - loss: 0.0577 - mae: 0.1749 - val_loss: 0.5987 - val_mae: 0.5863\n",
      "Epoch 79/100\n",
      "337/337 - 0s - loss: 0.0587 - mae: 0.1800 - val_loss: 0.6450 - val_mae: 0.6116\n",
      "Epoch 80/100\n",
      "337/337 - 0s - loss: 0.0591 - mae: 0.1844 - val_loss: 0.5796 - val_mae: 0.5614\n",
      "Epoch 81/100\n",
      "337/337 - 0s - loss: 0.0703 - mae: 0.1986 - val_loss: 0.6453 - val_mae: 0.6275\n",
      "Epoch 82/100\n",
      "337/337 - 0s - loss: 0.0549 - mae: 0.1805 - val_loss: 0.5862 - val_mae: 0.5551\n",
      "Epoch 83/100\n",
      "337/337 - 0s - loss: 0.0506 - mae: 0.1642 - val_loss: 0.6938 - val_mae: 0.6447\n",
      "Epoch 84/100\n",
      "337/337 - 0s - loss: 0.0473 - mae: 0.1614 - val_loss: 0.6211 - val_mae: 0.5784\n",
      "Epoch 85/100\n",
      "337/337 - 0s - loss: 0.0427 - mae: 0.1543 - val_loss: 0.6662 - val_mae: 0.6270\n",
      "Epoch 86/100\n",
      "337/337 - 0s - loss: 0.0449 - mae: 0.1543 - val_loss: 0.5961 - val_mae: 0.5833\n",
      "Epoch 87/100\n",
      "337/337 - 0s - loss: 0.0404 - mae: 0.1516 - val_loss: 0.6671 - val_mae: 0.6313\n",
      "Epoch 88/100\n",
      "337/337 - 0s - loss: 0.0375 - mae: 0.1435 - val_loss: 0.6215 - val_mae: 0.5853\n",
      "Epoch 89/100\n",
      "337/337 - 0s - loss: 0.0386 - mae: 0.1448 - val_loss: 0.6552 - val_mae: 0.6328\n"
     ]
    },
    {
     "name": "stdout",
     "output_type": "stream",
     "text": [
      "Epoch 90/100\n",
      "337/337 - 0s - loss: 0.0372 - mae: 0.1443 - val_loss: 0.6891 - val_mae: 0.6343\n",
      "Epoch 91/100\n",
      "337/337 - 0s - loss: 0.0325 - mae: 0.1291 - val_loss: 0.7162 - val_mae: 0.6480\n",
      "Epoch 92/100\n",
      "337/337 - 0s - loss: 0.0319 - mae: 0.1296 - val_loss: 0.6913 - val_mae: 0.6493\n",
      "Epoch 93/100\n",
      "337/337 - 0s - loss: 0.0333 - mae: 0.1368 - val_loss: 0.6191 - val_mae: 0.5917\n",
      "Epoch 94/100\n",
      "337/337 - 0s - loss: 0.0300 - mae: 0.1238 - val_loss: 0.6331 - val_mae: 0.6045\n",
      "Epoch 95/100\n",
      "337/337 - 0s - loss: 0.0316 - mae: 0.1281 - val_loss: 0.6884 - val_mae: 0.6398\n",
      "Epoch 96/100\n",
      "337/337 - 0s - loss: 0.0314 - mae: 0.1267 - val_loss: 0.6617 - val_mae: 0.6080\n",
      "Epoch 97/100\n",
      "337/337 - 0s - loss: 0.0271 - mae: 0.1118 - val_loss: 0.6730 - val_mae: 0.6314\n",
      "Epoch 98/100\n",
      "337/337 - 0s - loss: 0.0272 - mae: 0.1171 - val_loss: 0.6729 - val_mae: 0.6208\n",
      "Epoch 99/100\n",
      "337/337 - 0s - loss: 0.0384 - mae: 0.1471 - val_loss: 0.6740 - val_mae: 0.6358\n",
      "Epoch 100/100\n",
      "337/337 - 0s - loss: 0.0533 - mae: 0.1807 - val_loss: 0.6416 - val_mae: 0.6148\n"
     ]
    }
   ],
   "source": [
    "# Train the model, with some of the data reserved for validation\n",
    "\n",
    "history = model.fit(train_data, train_targets, epochs=100, validation_split=0.15, batch_size=64, verbose=2)"
   ]
  },
  {
   "cell_type": "code",
   "execution_count": 13,
   "metadata": {},
   "outputs": [
    {
     "name": "stdout",
     "output_type": "stream",
     "text": [
      "45/1 - 0s - loss: 0.5295 - mae: 0.7133\n"
     ]
    },
    {
     "data": {
      "text/plain": [
       "[0.8481475743982527, 0.71332735]"
      ]
     },
     "execution_count": 13,
     "metadata": {},
     "output_type": "execute_result"
    }
   ],
   "source": [
    "# Evaluate the model on test set\n",
    "\n",
    "model.evaluate(test_data, test_targets, verbose=2)"
   ]
  },
  {
   "cell_type": "markdown",
   "metadata": {},
   "source": [
    "#### Plot the learning curves"
   ]
  },
  {
   "cell_type": "code",
   "execution_count": 14,
   "metadata": {},
   "outputs": [
    {
     "name": "stderr",
     "output_type": "stream",
     "text": [
      "UsageError: Line magic function `%matplotlib.inline` not found.\n"
     ]
    }
   ],
   "source": [
    "import matplotlib.pyplot as plt\n",
    "%matplotlib.inline"
   ]
  },
  {
   "cell_type": "code",
   "execution_count": 15,
   "metadata": {},
   "outputs": [
    {
     "data": {
      "image/png": "[encoded data removed]",
      "text/plain": [
       "<Figure size 432x288 with 1 Axes>"
      ]
     },
     "metadata": {
      "needs_background": "light"
     },
     "output_type": "display_data"
    }
   ],
   "source": [
    "# Plot the training and validation loss\n",
    "\n",
    "plt.plot(history.history['loss'])\n",
    "plt.plot(history.history['val_loss'])\n",
    "plt.title('Loss vs epochs')\n",
    "plt.xlabel('Epoch')\n",
    "plt.ylabel('Loss')\n",
    "plt.legend(['Training', 'Validation'], loc='upper right')\n",
    "plt.show()"
   ]
  },
  {
   "cell_type": "code",
   "execution_count": null,
   "metadata": {},
   "outputs": [],
   "source": []
  }
 ],
 "metadata": {
  "kernelspec": {
   "display_name": "Python 3",
   "language": "python",
   "name": "python3"
  },
  "language_info": {
   "codemirror_mode": {
    "name": "ipython",
    "version": 3
   },
   "file_extension": ".py",
   "mimetype": "text/x-python",
   "name": "python",
   "nbconvert_exporter": "python",
   "pygments_lexer": "ipython3",
   "version": "3.7.6"
  }
 },
 "nbformat": 4,
 "nbformat_minor": 2
}
